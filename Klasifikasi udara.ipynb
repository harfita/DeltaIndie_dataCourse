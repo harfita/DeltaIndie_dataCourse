{
 "cells": [
  {
   "cell_type": "markdown",
   "id": "32c2d44d-150d-4c9c-a64a-6a90417c08a0",
   "metadata": {},
   "source": [
    "#melakukan import library"
   ]
  },
  {
   "cell_type": "code",
   "execution_count": 2,
   "id": "feb3af41-b2a9-4770-9a5c-0f2fe3ae866f",
   "metadata": {},
   "outputs": [
    {
     "name": "stdout",
     "output_type": "stream",
     "text": [
      "Semua Library diatas termuat\n"
     ]
    }
   ],
   "source": [
    "import numpy as np\n",
    "import pandas as pd\n",
    "import matplotlib.pyplot as plt\n",
    "import seaborn as sns\n",
    "import warnings\n",
    "\n",
    "#untuk mengabaikan warning\n",
    "warnings.filterwarnings(\"ignore\")\n",
    "\n",
    "print(\"Semua Library diatas termuat\")"
   ]
  },
  {
   "cell_type": "code",
   "execution_count": 3,
   "id": "f0cdebbd-3061-4861-b54e-870ee4c05067",
   "metadata": {},
   "outputs": [
    {
     "data": {
      "text/html": [
       "<div>\n",
       "<style scoped>\n",
       "    .dataframe tbody tr th:only-of-type {\n",
       "        vertical-align: middle;\n",
       "    }\n",
       "\n",
       "    .dataframe tbody tr th {\n",
       "        vertical-align: top;\n",
       "    }\n",
       "\n",
       "    .dataframe thead th {\n",
       "        text-align: right;\n",
       "    }\n",
       "</style>\n",
       "<table border=\"1\" class=\"dataframe\">\n",
       "  <thead>\n",
       "    <tr style=\"text-align: right;\">\n",
       "      <th></th>\n",
       "      <th>Date</th>\n",
       "      <th>PM2.5</th>\n",
       "      <th>PM10</th>\n",
       "      <th>SO2</th>\n",
       "      <th>CO</th>\n",
       "      <th>O3</th>\n",
       "      <th>NO2</th>\n",
       "      <th>Max</th>\n",
       "      <th>Critical Component</th>\n",
       "      <th>Category</th>\n",
       "    </tr>\n",
       "  </thead>\n",
       "  <tbody>\n",
       "    <tr>\n",
       "      <th>0</th>\n",
       "      <td>1/1/2020</td>\n",
       "      <td>45</td>\n",
       "      <td>30</td>\n",
       "      <td>2</td>\n",
       "      <td>69</td>\n",
       "      <td>19.0</td>\n",
       "      <td>0</td>\n",
       "      <td>69</td>\n",
       "      <td>CO</td>\n",
       "      <td>Moderate</td>\n",
       "    </tr>\n",
       "    <tr>\n",
       "      <th>1</th>\n",
       "      <td>1/2/2020</td>\n",
       "      <td>44</td>\n",
       "      <td>16</td>\n",
       "      <td>2</td>\n",
       "      <td>58</td>\n",
       "      <td>33.0</td>\n",
       "      <td>0</td>\n",
       "      <td>58</td>\n",
       "      <td>CO</td>\n",
       "      <td>Moderate</td>\n",
       "    </tr>\n",
       "    <tr>\n",
       "      <th>2</th>\n",
       "      <td>1/3/2020</td>\n",
       "      <td>43</td>\n",
       "      <td>12</td>\n",
       "      <td>2</td>\n",
       "      <td>46</td>\n",
       "      <td>18.0</td>\n",
       "      <td>0</td>\n",
       "      <td>46</td>\n",
       "      <td>CO</td>\n",
       "      <td>Good</td>\n",
       "    </tr>\n",
       "    <tr>\n",
       "      <th>3</th>\n",
       "      <td>1/4/2020</td>\n",
       "      <td>40</td>\n",
       "      <td>8</td>\n",
       "      <td>2</td>\n",
       "      <td>84</td>\n",
       "      <td>29.0</td>\n",
       "      <td>0</td>\n",
       "      <td>84</td>\n",
       "      <td>CO</td>\n",
       "      <td>Moderate</td>\n",
       "    </tr>\n",
       "    <tr>\n",
       "      <th>4</th>\n",
       "      <td>1/5/2020</td>\n",
       "      <td>38</td>\n",
       "      <td>8</td>\n",
       "      <td>3</td>\n",
       "      <td>50</td>\n",
       "      <td>0.0</td>\n",
       "      <td>0</td>\n",
       "      <td>50</td>\n",
       "      <td>CO</td>\n",
       "      <td>Good</td>\n",
       "    </tr>\n",
       "    <tr>\n",
       "      <th>...</th>\n",
       "      <td>...</td>\n",
       "      <td>...</td>\n",
       "      <td>...</td>\n",
       "      <td>...</td>\n",
       "      <td>...</td>\n",
       "      <td>...</td>\n",
       "      <td>...</td>\n",
       "      <td>...</td>\n",
       "      <td>...</td>\n",
       "      <td>...</td>\n",
       "    </tr>\n",
       "    <tr>\n",
       "      <th>1091</th>\n",
       "      <td>12/27/2022</td>\n",
       "      <td>50</td>\n",
       "      <td>19</td>\n",
       "      <td>16</td>\n",
       "      <td>12</td>\n",
       "      <td>NaN</td>\n",
       "      <td>4</td>\n",
       "      <td>19</td>\n",
       "      <td>PM2.5</td>\n",
       "      <td>Moderate</td>\n",
       "    </tr>\n",
       "    <tr>\n",
       "      <th>1092</th>\n",
       "      <td>12/28/2022</td>\n",
       "      <td>51</td>\n",
       "      <td>20</td>\n",
       "      <td>16</td>\n",
       "      <td>12</td>\n",
       "      <td>NaN</td>\n",
       "      <td>4</td>\n",
       "      <td>20</td>\n",
       "      <td>PM2.5</td>\n",
       "      <td>Moderate</td>\n",
       "    </tr>\n",
       "    <tr>\n",
       "      <th>1093</th>\n",
       "      <td>12/29/2022</td>\n",
       "      <td>52</td>\n",
       "      <td>21</td>\n",
       "      <td>16</td>\n",
       "      <td>13</td>\n",
       "      <td>NaN</td>\n",
       "      <td>4</td>\n",
       "      <td>21</td>\n",
       "      <td>PM2.5</td>\n",
       "      <td>Moderate</td>\n",
       "    </tr>\n",
       "    <tr>\n",
       "      <th>1094</th>\n",
       "      <td>12/30/2022</td>\n",
       "      <td>53</td>\n",
       "      <td>22</td>\n",
       "      <td>17</td>\n",
       "      <td>13</td>\n",
       "      <td>NaN</td>\n",
       "      <td>4</td>\n",
       "      <td>22</td>\n",
       "      <td>PM2.5</td>\n",
       "      <td>Moderate</td>\n",
       "    </tr>\n",
       "    <tr>\n",
       "      <th>1095</th>\n",
       "      <td>12/31/2022</td>\n",
       "      <td>53</td>\n",
       "      <td>23</td>\n",
       "      <td>17</td>\n",
       "      <td>14</td>\n",
       "      <td>NaN</td>\n",
       "      <td>4</td>\n",
       "      <td>23</td>\n",
       "      <td>PM2.5</td>\n",
       "      <td>Moderate</td>\n",
       "    </tr>\n",
       "  </tbody>\n",
       "</table>\n",
       "<p>1096 rows × 10 columns</p>\n",
       "</div>"
      ],
      "text/plain": [
       "            Date  PM2.5  PM10  SO2  CO    O3  NO2  Max Critical Component  \\\n",
       "0       1/1/2020     45    30    2  69  19.0    0   69                 CO   \n",
       "1       1/2/2020     44    16    2  58  33.0    0   58                 CO   \n",
       "2       1/3/2020     43    12    2  46  18.0    0   46                 CO   \n",
       "3       1/4/2020     40     8    2  84  29.0    0   84                 CO   \n",
       "4       1/5/2020     38     8    3  50   0.0    0   50                 CO   \n",
       "...          ...    ...   ...  ...  ..   ...  ...  ...                ...   \n",
       "1091  12/27/2022     50    19   16  12   NaN    4   19              PM2.5   \n",
       "1092  12/28/2022     51    20   16  12   NaN    4   20              PM2.5   \n",
       "1093  12/29/2022     52    21   16  13   NaN    4   21              PM2.5   \n",
       "1094  12/30/2022     53    22   17  13   NaN    4   22              PM2.5   \n",
       "1095  12/31/2022     53    23   17  14   NaN    4   23              PM2.5   \n",
       "\n",
       "      Category  \n",
       "0     Moderate  \n",
       "1     Moderate  \n",
       "2         Good  \n",
       "3     Moderate  \n",
       "4         Good  \n",
       "...        ...  \n",
       "1091  Moderate  \n",
       "1092  Moderate  \n",
       "1093  Moderate  \n",
       "1094  Moderate  \n",
       "1095  Moderate  \n",
       "\n",
       "[1096 rows x 10 columns]"
      ]
     },
     "execution_count": 3,
     "metadata": {},
     "output_type": "execute_result"
    }
   ],
   "source": [
    "df = pd.read_csv(\"pollutant-standards-index-southtangerang-2020-2022.csv\")\n",
    "df"
   ]
  },
  {
   "cell_type": "code",
   "execution_count": 4,
   "id": "e8abf71f-0a7a-4f6c-bf5f-23bea2dec717",
   "metadata": {},
   "outputs": [
    {
     "data": {
      "text/html": [
       "<div>\n",
       "<style scoped>\n",
       "    .dataframe tbody tr th:only-of-type {\n",
       "        vertical-align: middle;\n",
       "    }\n",
       "\n",
       "    .dataframe tbody tr th {\n",
       "        vertical-align: top;\n",
       "    }\n",
       "\n",
       "    .dataframe thead th {\n",
       "        text-align: right;\n",
       "    }\n",
       "</style>\n",
       "<table border=\"1\" class=\"dataframe\">\n",
       "  <thead>\n",
       "    <tr style=\"text-align: right;\">\n",
       "      <th></th>\n",
       "      <th>Nama Feature</th>\n",
       "      <th>Penjelasan</th>\n",
       "    </tr>\n",
       "  </thead>\n",
       "  <tbody>\n",
       "    <tr>\n",
       "      <th>1</th>\n",
       "      <td>Date</td>\n",
       "      <td>Tanggal pengukuran</td>\n",
       "    </tr>\n",
       "    <tr>\n",
       "      <th>2</th>\n",
       "      <td>PM10</td>\n",
       "      <td>Pengukuran Materi Partikulat</td>\n",
       "    </tr>\n",
       "    <tr>\n",
       "      <th>3</th>\n",
       "      <td>SO2</td>\n",
       "      <td>Pengukuran Sulfur Dioksida</td>\n",
       "    </tr>\n",
       "    <tr>\n",
       "      <th>4</th>\n",
       "      <td>CO</td>\n",
       "      <td>Pengukuran Karbon Monoksida</td>\n",
       "    </tr>\n",
       "    <tr>\n",
       "      <th>5</th>\n",
       "      <td>O3</td>\n",
       "      <td>Pengukuran ozon</td>\n",
       "    </tr>\n",
       "    <tr>\n",
       "      <th>6</th>\n",
       "      <td>NO2</td>\n",
       "      <td>Pengukuran Natrium DIoksida</td>\n",
       "    </tr>\n",
       "    <tr>\n",
       "      <th>7</th>\n",
       "      <td>Max</td>\n",
       "      <td>Nilai pengukuran tertinggi</td>\n",
       "    </tr>\n",
       "    <tr>\n",
       "      <th>8</th>\n",
       "      <td>Critical Component</td>\n",
       "      <td>Komponen nilai pengukuran tertinggi</td>\n",
       "    </tr>\n",
       "    <tr>\n",
       "      <th>9</th>\n",
       "      <td>Categoy</td>\n",
       "      <td>Kategori pencemaran udara baik atau tidak</td>\n",
       "    </tr>\n",
       "  </tbody>\n",
       "</table>\n",
       "</div>"
      ],
      "text/plain": [
       "         Nama Feature                                 Penjelasan\n",
       "1                Date                         Tanggal pengukuran\n",
       "2                PM10               Pengukuran Materi Partikulat\n",
       "3                 SO2                 Pengukuran Sulfur Dioksida\n",
       "4                  CO                Pengukuran Karbon Monoksida\n",
       "5                  O3                            Pengukuran ozon\n",
       "6                 NO2                Pengukuran Natrium DIoksida\n",
       "7                 Max                 Nilai pengukuran tertinggi\n",
       "8  Critical Component        Komponen nilai pengukuran tertinggi\n",
       "9             Categoy  Kategori pencemaran udara baik atau tidak"
      ]
     },
     "execution_count": 4,
     "metadata": {},
     "output_type": "execute_result"
    }
   ],
   "source": [
    "feature_dataset = pd.Series([\"Date\",\"PM10\",\"SO2\",\"CO\",\"O3\",\"NO2\",\"Max\",\"Critical Component\",\"Categoy\"],index=[1,2,3,4,5,6,7,8,9])\n",
    "penjelasan_feature = pd.Series([\"Tanggal pengukuran\",\"Pengukuran Materi Partikulat\",\"Pengukuran Sulfur Dioksida\",\"Pengukuran Karbon Monoksida\",\"Pengukuran ozon\",\"Pengukuran Natrium DIoksida\",\"Nilai pengukuran tertinggi\",\"Komponen nilai pengukuran tertinggi\",\"Kategori pencemaran udara baik atau tidak\"],index=[1,2,3,4,5,6,7,8,9])\n",
    "\n",
    "deskripsi_variabel = pd.DataFrame({\"Nama Feature\":feature_dataset,\n",
    "                                  \"Penjelasan\":penjelasan_feature})\n",
    "deskripsi_variabel"
   ]
  },
  {
   "cell_type": "code",
   "execution_count": 5,
   "id": "e58c4cda-c686-4dbc-850d-d2f0376298e9",
   "metadata": {},
   "outputs": [
    {
     "name": "stdout",
     "output_type": "stream",
     "text": [
      "<class 'pandas.core.frame.DataFrame'>\n",
      "RangeIndex: 1096 entries, 0 to 1095\n",
      "Data columns (total 10 columns):\n",
      " #   Column              Non-Null Count  Dtype  \n",
      "---  ------              --------------  -----  \n",
      " 0   Date                1096 non-null   object \n",
      " 1   PM2.5               1096 non-null   int64  \n",
      " 2   PM10                1096 non-null   int64  \n",
      " 3   SO2                 1096 non-null   int64  \n",
      " 4   CO                  1096 non-null   int64  \n",
      " 5   O3                  1036 non-null   float64\n",
      " 6   NO2                 1096 non-null   int64  \n",
      " 7   Max                 1096 non-null   int64  \n",
      " 8   Critical Component  1096 non-null   object \n",
      " 9   Category            1096 non-null   object \n",
      "dtypes: float64(1), int64(6), object(3)\n",
      "memory usage: 85.8+ KB\n"
     ]
    }
   ],
   "source": [
    "df.info()"
   ]
  },
  {
   "cell_type": "code",
   "execution_count": 6,
   "id": "42a41dbf-3aec-4017-8aaf-313c2b9801dc",
   "metadata": {},
   "outputs": [
    {
     "data": {
      "text/html": [
       "<div>\n",
       "<style scoped>\n",
       "    .dataframe tbody tr th:only-of-type {\n",
       "        vertical-align: middle;\n",
       "    }\n",
       "\n",
       "    .dataframe tbody tr th {\n",
       "        vertical-align: top;\n",
       "    }\n",
       "\n",
       "    .dataframe thead th {\n",
       "        text-align: right;\n",
       "    }\n",
       "</style>\n",
       "<table border=\"1\" class=\"dataframe\">\n",
       "  <thead>\n",
       "    <tr style=\"text-align: right;\">\n",
       "      <th></th>\n",
       "      <th>PM2.5</th>\n",
       "      <th>PM10</th>\n",
       "      <th>SO2</th>\n",
       "      <th>CO</th>\n",
       "      <th>O3</th>\n",
       "      <th>NO2</th>\n",
       "      <th>Max</th>\n",
       "    </tr>\n",
       "  </thead>\n",
       "  <tbody>\n",
       "    <tr>\n",
       "      <th>count</th>\n",
       "      <td>1096.000000</td>\n",
       "      <td>1096.000000</td>\n",
       "      <td>1096.000000</td>\n",
       "      <td>1096.000000</td>\n",
       "      <td>1036.000000</td>\n",
       "      <td>1096.000000</td>\n",
       "      <td>1096.000000</td>\n",
       "    </tr>\n",
       "    <tr>\n",
       "      <th>mean</th>\n",
       "      <td>44.193431</td>\n",
       "      <td>18.738139</td>\n",
       "      <td>10.580292</td>\n",
       "      <td>18.820255</td>\n",
       "      <td>20.960425</td>\n",
       "      <td>2.374088</td>\n",
       "      <td>29.235401</td>\n",
       "    </tr>\n",
       "    <tr>\n",
       "      <th>std</th>\n",
       "      <td>10.826190</td>\n",
       "      <td>7.290818</td>\n",
       "      <td>8.068708</td>\n",
       "      <td>17.066338</td>\n",
       "      <td>12.467208</td>\n",
       "      <td>2.227808</td>\n",
       "      <td>15.907933</td>\n",
       "    </tr>\n",
       "    <tr>\n",
       "      <th>min</th>\n",
       "      <td>19.000000</td>\n",
       "      <td>3.000000</td>\n",
       "      <td>0.000000</td>\n",
       "      <td>0.000000</td>\n",
       "      <td>0.000000</td>\n",
       "      <td>0.000000</td>\n",
       "      <td>11.000000</td>\n",
       "    </tr>\n",
       "    <tr>\n",
       "      <th>25%</th>\n",
       "      <td>35.000000</td>\n",
       "      <td>13.000000</td>\n",
       "      <td>1.000000</td>\n",
       "      <td>10.000000</td>\n",
       "      <td>15.000000</td>\n",
       "      <td>0.000000</td>\n",
       "      <td>20.000000</td>\n",
       "    </tr>\n",
       "    <tr>\n",
       "      <th>50%</th>\n",
       "      <td>45.000000</td>\n",
       "      <td>17.000000</td>\n",
       "      <td>14.000000</td>\n",
       "      <td>12.000000</td>\n",
       "      <td>20.000000</td>\n",
       "      <td>3.000000</td>\n",
       "      <td>24.000000</td>\n",
       "    </tr>\n",
       "    <tr>\n",
       "      <th>75%</th>\n",
       "      <td>53.000000</td>\n",
       "      <td>23.000000</td>\n",
       "      <td>16.000000</td>\n",
       "      <td>21.000000</td>\n",
       "      <td>26.000000</td>\n",
       "      <td>4.000000</td>\n",
       "      <td>31.000000</td>\n",
       "    </tr>\n",
       "    <tr>\n",
       "      <th>max</th>\n",
       "      <td>66.000000</td>\n",
       "      <td>60.000000</td>\n",
       "      <td>28.000000</td>\n",
       "      <td>164.000000</td>\n",
       "      <td>81.000000</td>\n",
       "      <td>8.000000</td>\n",
       "      <td>164.000000</td>\n",
       "    </tr>\n",
       "  </tbody>\n",
       "</table>\n",
       "</div>"
      ],
      "text/plain": [
       "             PM2.5         PM10          SO2           CO           O3  \\\n",
       "count  1096.000000  1096.000000  1096.000000  1096.000000  1036.000000   \n",
       "mean     44.193431    18.738139    10.580292    18.820255    20.960425   \n",
       "std      10.826190     7.290818     8.068708    17.066338    12.467208   \n",
       "min      19.000000     3.000000     0.000000     0.000000     0.000000   \n",
       "25%      35.000000    13.000000     1.000000    10.000000    15.000000   \n",
       "50%      45.000000    17.000000    14.000000    12.000000    20.000000   \n",
       "75%      53.000000    23.000000    16.000000    21.000000    26.000000   \n",
       "max      66.000000    60.000000    28.000000   164.000000    81.000000   \n",
       "\n",
       "               NO2          Max  \n",
       "count  1096.000000  1096.000000  \n",
       "mean      2.374088    29.235401  \n",
       "std       2.227808    15.907933  \n",
       "min       0.000000    11.000000  \n",
       "25%       0.000000    20.000000  \n",
       "50%       3.000000    24.000000  \n",
       "75%       4.000000    31.000000  \n",
       "max       8.000000   164.000000  "
      ]
     },
     "execution_count": 6,
     "metadata": {},
     "output_type": "execute_result"
    }
   ],
   "source": [
    "df.describe()"
   ]
  },
  {
   "cell_type": "code",
   "execution_count": 7,
   "id": "ade1b192-f320-4aa1-b1bb-07ad319f445b",
   "metadata": {},
   "outputs": [
    {
     "data": {
      "text/plain": [
       "Category\n",
       "Moderate     639\n",
       "Good         393\n",
       "Unhealthy     64\n",
       "Name: count, dtype: int64"
      ]
     },
     "execution_count": 7,
     "metadata": {},
     "output_type": "execute_result"
    }
   ],
   "source": [
    "df[\"Category\"].value_counts()"
   ]
  },
  {
   "cell_type": "markdown",
   "id": "8ad39214-d31d-48b6-88a1-986a11d9cd5d",
   "metadata": {},
   "source": [
    "#data cleansing dan data preprocesing\n",
    "\n",
    "# mengecek data yang hilang\n"
   ]
  },
  {
   "cell_type": "code",
   "execution_count": 9,
   "id": "0876001b-9ad5-4fee-966b-ea43fb972b45",
   "metadata": {},
   "outputs": [
    {
     "data": {
      "text/plain": [
       "<bound method DataFrame.sum of        Date  PM2.5   PM10    SO2     CO     O3    NO2    Max  \\\n",
       "0     False  False  False  False  False  False  False  False   \n",
       "1     False  False  False  False  False  False  False  False   \n",
       "2     False  False  False  False  False  False  False  False   \n",
       "3     False  False  False  False  False  False  False  False   \n",
       "4     False  False  False  False  False  False  False  False   \n",
       "...     ...    ...    ...    ...    ...    ...    ...    ...   \n",
       "1091  False  False  False  False  False   True  False  False   \n",
       "1092  False  False  False  False  False   True  False  False   \n",
       "1093  False  False  False  False  False   True  False  False   \n",
       "1094  False  False  False  False  False   True  False  False   \n",
       "1095  False  False  False  False  False   True  False  False   \n",
       "\n",
       "      Critical Component  Category  \n",
       "0                  False     False  \n",
       "1                  False     False  \n",
       "2                  False     False  \n",
       "3                  False     False  \n",
       "4                  False     False  \n",
       "...                  ...       ...  \n",
       "1091               False     False  \n",
       "1092               False     False  \n",
       "1093               False     False  \n",
       "1094               False     False  \n",
       "1095               False     False  \n",
       "\n",
       "[1096 rows x 10 columns]>"
      ]
     },
     "execution_count": 9,
     "metadata": {},
     "output_type": "execute_result"
    }
   ],
   "source": [
    "df.isna().sum"
   ]
  },
  {
   "cell_type": "code",
   "execution_count": 10,
   "id": "16f911d4-fab2-4820-b895-f560e9673b0e",
   "metadata": {},
   "outputs": [],
   "source": [
    "#mengecek outlier\n",
    "df_baru = df[[\"PM2.5\", \"PM10\", \"SO2\", \"NO2\", \"CO\", \"Category\"]]"
   ]
  },
  {
   "cell_type": "code",
   "execution_count": 11,
   "id": "e9006a7e-917f-42fc-8c4e-96ccc3b1d67a",
   "metadata": {},
   "outputs": [],
   "source": [
    "#cara mengisi missing value dengan nilai mean pada O3\n",
    "df[\"O3\"]= df[\"O3\"].fillna(df[\"O3\"].mean())"
   ]
  },
  {
   "cell_type": "code",
   "execution_count": 12,
   "id": "3b790658-a688-4d5b-a94a-cef9f94961db",
   "metadata": {},
   "outputs": [
    {
     "data": {
      "text/plain": [
       "Date                  0\n",
       "PM2.5                 0\n",
       "PM10                  0\n",
       "SO2                   0\n",
       "CO                    0\n",
       "O3                    0\n",
       "NO2                   0\n",
       "Max                   0\n",
       "Critical Component    0\n",
       "Category              0\n",
       "dtype: int64"
      ]
     },
     "execution_count": 12,
     "metadata": {},
     "output_type": "execute_result"
    }
   ],
   "source": [
    "df.isna().sum()"
   ]
  },
  {
   "cell_type": "code",
   "execution_count": 13,
   "id": "542981bf-c43b-4548-afb0-0926a6469cca",
   "metadata": {},
   "outputs": [
    {
     "data": {
      "image/png": "[encoded data removed]",
      "text/plain": [
       "<Figure size 1200x800 with 1 Axes>"
      ]
     },
     "metadata": {},
     "output_type": "display_data"
    }
   ],
   "source": [
    "#mengecek outlier\n",
    "#membuat boxplot outlier\n",
    "plt.figure(figsize=(12,8))\n",
    "df_baru.boxplot()\n",
    "plt.title(\"Boxplot Outlier Detection\")\n",
    "plt.show()"
   ]
  },
  {
   "cell_type": "code",
   "execution_count": 14,
   "id": "26618d65-6ee9-4710-8d20-1991d0e04374",
   "metadata": {},
   "outputs": [
    {
     "data": {
      "text/plain": [
       "(1096, 6)"
      ]
     },
     "execution_count": 14,
     "metadata": {},
     "output_type": "execute_result"
    }
   ],
   "source": [
    "df_baru.shape"
   ]
  },
  {
   "cell_type": "code",
   "execution_count": 15,
   "id": "7f443f16-5402-4e5a-83cb-9caff508cc14",
   "metadata": {},
   "outputs": [],
   "source": [
    "#hilangkan outlier\n",
    "def hapus_outlier(data):\n",
    "    df_bersih = data.copy() #melakukan copy data kedalam variabel df_bersih\n",
    "    for col in df_bersih.columns: #memanggil nama setiap kolom yang disimpan ke dalam variabel col untuk diproses\n",
    "    #col=pm2.5\n",
    "        Q1 = data[col].quantile(0.25) #untuk menghitung Q1\n",
    "        Q3 = data[col].quantile(0.75) #untuk menghitung Q3\n",
    "        IQR = Q3-Q1 #untuk menhitung IQR range antara Q3 dan Q1\n",
    "        upper_bound = Q3 + 1.5 * IQR\n",
    "        lower_bound = Q3 - 1.5 * IQR\n",
    "        df_bersih = df_bersih [(df_bersih[col] > lower_bound)&(df_bersih[col]<upper_bound)]\n",
    "    return df_bersih"
   ]
  },
  {
   "cell_type": "code",
   "execution_count": 16,
   "id": "a0549551-9a0d-40dd-836d-2f444c7ed1bf",
   "metadata": {},
   "outputs": [],
   "source": [
    "from sklearn.preprocessing import LabelEncoder\n",
    "label_encoder = LabelEncoder()\n",
    "#label encoding\n",
    "df_baru[\"Category\"] = label_encoder.fit_transform(df_baru[\"Category\"])"
   ]
  },
  {
   "cell_type": "code",
   "execution_count": 17,
   "id": "3cc055d5-5621-42e9-9b68-4cf6a57171c1",
   "metadata": {},
   "outputs": [
    {
     "data": {
      "text/plain": [
       "Category\n",
       "1    639\n",
       "0    393\n",
       "2     64\n",
       "Name: count, dtype: int64"
      ]
     },
     "execution_count": 17,
     "metadata": {},
     "output_type": "execute_result"
    }
   ],
   "source": [
    "df_baru[\"Category\"].value_counts()"
   ]
  },
  {
   "cell_type": "code",
   "execution_count": 18,
   "id": "caf81766-1b88-4411-8939-b1a09247b968",
   "metadata": {},
   "outputs": [],
   "source": [
    "df_no_outlier = hapus_outlier(df_baru) #run hapus outlier"
   ]
  },
  {
   "cell_type": "code",
   "execution_count": 19,
   "id": "77d3a6bf-82f7-41e8-a7c1-9824e7d612b1",
   "metadata": {},
   "outputs": [
    {
     "data": {
      "image/png": "[encoded data removed]",
      "text/plain": [
       "<Figure size 1200x800 with 1 Axes>"
      ]
     },
     "metadata": {},
     "output_type": "display_data"
    }
   ],
   "source": [
    "plt.figure(figsize=(12,8))\n",
    "df_no_outlier[[\"PM2.5\", \"PM10\", \"SO2\", \"NO2\", \"CO\"]].boxplot()\n",
    "plt.title(\"Boxplot Outlier after Detection Remove\")\n",
    "plt.show()"
   ]
  },
  {
   "cell_type": "code",
   "execution_count": 20,
   "id": "b90f3c47-0fa6-41cf-8205-288db849a327",
   "metadata": {},
   "outputs": [
    {
     "data": {
      "text/plain": [
       "(922, 6)"
      ]
     },
     "execution_count": 20,
     "metadata": {},
     "output_type": "execute_result"
    }
   ],
   "source": [
    "df_no_outlier.shape"
   ]
  },
  {
   "cell_type": "code",
   "execution_count": 21,
   "id": "a646508b-6990-46e8-9fc0-1fbcec6c9cfc",
   "metadata": {},
   "outputs": [
    {
     "name": "stdout",
     "output_type": "stream",
     "text": [
      "(1096, 6)\n",
      "(922, 6)\n"
     ]
    }
   ],
   "source": [
    "print(df_baru.shape)\n",
    "print(df_no_outlier.shape)"
   ]
  },
  {
   "cell_type": "code",
   "execution_count": 22,
   "id": "e37c2666-4a67-4bc8-81cb-0de8256444b5",
   "metadata": {},
   "outputs": [],
   "source": [
    "# pembagian data latih dan Uji\n",
    "from sklearn.model_selection import train_test_split"
   ]
  },
  {
   "cell_type": "code",
   "execution_count": 23,
   "id": "b211e536-520b-40f9-92d2-20ef8e5c5f64",
   "metadata": {},
   "outputs": [],
   "source": [
    "X = df_no_outlier.drop([\"Category\"], axis=1)\n",
    "y = df_no_outlier[\"Category\"]"
   ]
  },
  {
   "cell_type": "code",
   "execution_count": 24,
   "id": "906d3e9c-b4de-44c2-9322-ee7018fd1f55",
   "metadata": {},
   "outputs": [
    {
     "data": {
      "text/html": [
       "<div>\n",
       "<style scoped>\n",
       "    .dataframe tbody tr th:only-of-type {\n",
       "        vertical-align: middle;\n",
       "    }\n",
       "\n",
       "    .dataframe tbody tr th {\n",
       "        vertical-align: top;\n",
       "    }\n",
       "\n",
       "    .dataframe thead th {\n",
       "        text-align: right;\n",
       "    }\n",
       "</style>\n",
       "<table border=\"1\" class=\"dataframe\">\n",
       "  <thead>\n",
       "    <tr style=\"text-align: right;\">\n",
       "      <th></th>\n",
       "      <th>PM2.5</th>\n",
       "      <th>PM10</th>\n",
       "      <th>SO2</th>\n",
       "      <th>NO2</th>\n",
       "      <th>CO</th>\n",
       "    </tr>\n",
       "  </thead>\n",
       "  <tbody>\n",
       "    <tr>\n",
       "      <th>12</th>\n",
       "      <td>31</td>\n",
       "      <td>11</td>\n",
       "      <td>2</td>\n",
       "      <td>0</td>\n",
       "      <td>29</td>\n",
       "    </tr>\n",
       "    <tr>\n",
       "      <th>19</th>\n",
       "      <td>34</td>\n",
       "      <td>14</td>\n",
       "      <td>2</td>\n",
       "      <td>0</td>\n",
       "      <td>34</td>\n",
       "    </tr>\n",
       "    <tr>\n",
       "      <th>25</th>\n",
       "      <td>31</td>\n",
       "      <td>19</td>\n",
       "      <td>2</td>\n",
       "      <td>0</td>\n",
       "      <td>32</td>\n",
       "    </tr>\n",
       "    <tr>\n",
       "      <th>56</th>\n",
       "      <td>48</td>\n",
       "      <td>15</td>\n",
       "      <td>2</td>\n",
       "      <td>0</td>\n",
       "      <td>16</td>\n",
       "    </tr>\n",
       "    <tr>\n",
       "      <th>57</th>\n",
       "      <td>50</td>\n",
       "      <td>22</td>\n",
       "      <td>2</td>\n",
       "      <td>0</td>\n",
       "      <td>19</td>\n",
       "    </tr>\n",
       "    <tr>\n",
       "      <th>...</th>\n",
       "      <td>...</td>\n",
       "      <td>...</td>\n",
       "      <td>...</td>\n",
       "      <td>...</td>\n",
       "      <td>...</td>\n",
       "    </tr>\n",
       "    <tr>\n",
       "      <th>1091</th>\n",
       "      <td>50</td>\n",
       "      <td>19</td>\n",
       "      <td>16</td>\n",
       "      <td>4</td>\n",
       "      <td>12</td>\n",
       "    </tr>\n",
       "    <tr>\n",
       "      <th>1092</th>\n",
       "      <td>51</td>\n",
       "      <td>20</td>\n",
       "      <td>16</td>\n",
       "      <td>4</td>\n",
       "      <td>12</td>\n",
       "    </tr>\n",
       "    <tr>\n",
       "      <th>1093</th>\n",
       "      <td>52</td>\n",
       "      <td>21</td>\n",
       "      <td>16</td>\n",
       "      <td>4</td>\n",
       "      <td>13</td>\n",
       "    </tr>\n",
       "    <tr>\n",
       "      <th>1094</th>\n",
       "      <td>53</td>\n",
       "      <td>22</td>\n",
       "      <td>17</td>\n",
       "      <td>4</td>\n",
       "      <td>13</td>\n",
       "    </tr>\n",
       "    <tr>\n",
       "      <th>1095</th>\n",
       "      <td>53</td>\n",
       "      <td>23</td>\n",
       "      <td>17</td>\n",
       "      <td>4</td>\n",
       "      <td>14</td>\n",
       "    </tr>\n",
       "  </tbody>\n",
       "</table>\n",
       "<p>922 rows × 5 columns</p>\n",
       "</div>"
      ],
      "text/plain": [
       "      PM2.5  PM10  SO2  NO2  CO\n",
       "12       31    11    2    0  29\n",
       "19       34    14    2    0  34\n",
       "25       31    19    2    0  32\n",
       "56       48    15    2    0  16\n",
       "57       50    22    2    0  19\n",
       "...     ...   ...  ...  ...  ..\n",
       "1091     50    19   16    4  12\n",
       "1092     51    20   16    4  12\n",
       "1093     52    21   16    4  13\n",
       "1094     53    22   17    4  13\n",
       "1095     53    23   17    4  14\n",
       "\n",
       "[922 rows x 5 columns]"
      ]
     },
     "execution_count": 24,
     "metadata": {},
     "output_type": "execute_result"
    }
   ],
   "source": [
    "X"
   ]
  },
  {
   "cell_type": "code",
   "execution_count": 25,
   "id": "147c54e5-49e3-4d15-a072-8db995860517",
   "metadata": {},
   "outputs": [
    {
     "data": {
      "text/plain": [
       "12      0\n",
       "19      0\n",
       "25      0\n",
       "56      1\n",
       "57      1\n",
       "       ..\n",
       "1091    1\n",
       "1092    1\n",
       "1093    1\n",
       "1094    1\n",
       "1095    1\n",
       "Name: Category, Length: 922, dtype: int32"
      ]
     },
     "execution_count": 25,
     "metadata": {},
     "output_type": "execute_result"
    }
   ],
   "source": [
    "y"
   ]
  },
  {
   "cell_type": "code",
   "execution_count": 26,
   "id": "837010b8-36ef-4b3d-9519-58f7ca957072",
   "metadata": {},
   "outputs": [],
   "source": [
    "#Machine Learning (pelatihan dan pengujian 3 rasio)\n",
    "from sklearn.ensemble import GradientBoostingClassifier, RandomForestClassifier, AdaBoostClassifier\n",
    "from sklearn.neighbors import KNeighborsClassifier\n",
    "from sklearn.naive_bayes import GaussianNB\n",
    "from sklearn.metrics import accuracy_score, classification_report, confusion_matrix"
   ]
  },
  {
   "cell_type": "code",
   "execution_count": 27,
   "id": "b4098890-a8cd-4f36-8c2b-643f0ca7696d",
   "metadata": {},
   "outputs": [],
   "source": [
    "rasio = [0.2, 0.3, 0.4]"
   ]
  },
  {
   "cell_type": "code",
   "execution_count": 28,
   "id": "13c9e529-3436-4e09-8859-0931e2bb5f55",
   "metadata": {},
   "outputs": [
    {
     "name": "stdout",
     "output_type": "stream",
     "text": [
      "\n",
      "Hasil performa untuk rasio 0.2:\n",
      "=========================================\n",
      "Model Gradient Boosting:\n",
      "Akurasi Training: 91.32%\n",
      "Akurasi Testing: 81.62%\n",
      "-----------------------------------------\n",
      "Model K-Nearest Neighbors:\n",
      "Akurasi Training: 85.07%\n",
      "Akurasi Testing: 78.38%\n",
      "-----------------------------------------\n",
      "Model Random Forest:\n",
      "Akurasi Training: 97.29%\n",
      "Akurasi Testing: 82.70%\n",
      "-----------------------------------------\n",
      "Model AdaBoost:\n",
      "Akurasi Training: 65.40%\n",
      "Akurasi Testing: 64.86%\n",
      "-----------------------------------------\n",
      "Model Naive Bayes:\n",
      "Akurasi Training: 52.37%\n",
      "Akurasi Testing: 55.14%\n",
      "-----------------------------------------\n",
      "\n",
      "Hasil performa untuk rasio 0.3:\n",
      "=========================================\n",
      "Model Gradient Boosting:\n",
      "Akurasi Training: 92.40%\n",
      "Akurasi Testing: 78.34%\n",
      "-----------------------------------------\n",
      "Model K-Nearest Neighbors:\n",
      "Akurasi Training: 86.98%\n",
      "Akurasi Testing: 75.09%\n",
      "-----------------------------------------\n",
      "Model Random Forest:\n",
      "Akurasi Training: 97.98%\n",
      "Akurasi Testing: 80.87%\n",
      "-----------------------------------------\n",
      "Model AdaBoost:\n",
      "Akurasi Training: 52.56%\n",
      "Akurasi Testing: 49.10%\n",
      "-----------------------------------------\n",
      "Model Naive Bayes:\n",
      "Akurasi Training: 52.71%\n",
      "Akurasi Testing: 56.32%\n",
      "-----------------------------------------\n",
      "\n",
      "Hasil performa untuk rasio 0.4:\n",
      "=========================================\n",
      "Model Gradient Boosting:\n",
      "Akurasi Training: 93.31%\n",
      "Akurasi Testing: 79.67%\n",
      "-----------------------------------------\n",
      "Model K-Nearest Neighbors:\n",
      "Akurasi Training: 84.81%\n",
      "Akurasi Testing: 75.88%\n",
      "-----------------------------------------\n",
      "Model Random Forest:\n",
      "Akurasi Training: 98.01%\n",
      "Akurasi Testing: 81.30%\n",
      "-----------------------------------------\n",
      "Model AdaBoost:\n",
      "Akurasi Training: 52.26%\n",
      "Akurasi Testing: 47.70%\n",
      "-----------------------------------------\n",
      "Model Naive Bayes:\n",
      "Akurasi Training: 52.08%\n",
      "Akurasi Testing: 55.01%\n",
      "-----------------------------------------\n"
     ]
    }
   ],
   "source": [
    "\n",
    "# List model\n",
    "models = [\n",
    "    ('Gradient Boosting', GradientBoostingClassifier(random_state=42)),\n",
    "    ('K-Nearest Neighbors', KNeighborsClassifier(n_neighbors=5)),\n",
    "    ('Random Forest', RandomForestClassifier(random_state=42)),\n",
    "    ('AdaBoost', AdaBoostClassifier(random_state=42)),\n",
    "    ('Naive Bayes', GaussianNB())\n",
    "]\n",
    "\n",
    "\n",
    "for test_size in rasio:\n",
    "    # Split data\n",
    "    X_train, X_test, y_train, y_test = train_test_split(\n",
    "        X, y, \n",
    "        test_size=test_size, \n",
    "        random_state=42\n",
    "    )\n",
    "    \n",
    "    print(f\"\\nHasil performa untuk rasio {test_size}:\")\n",
    "    print(\"=========================================\")\n",
    "    \n",
    "    # Iterasi setiap model\n",
    "    for name, model in models:\n",
    "        # Training model\n",
    "        model.fit(X_train, y_train)\n",
    "        \n",
    "        # Prediksi\n",
    "        y_pred_train = model.predict(X_train)\n",
    "        y_pred_test = model.predict(X_test)\n",
    "        \n",
    "        # Hitung akurasi\n",
    "        train_acc = accuracy_score(y_train, y_pred_train) * 100\n",
    "        test_acc = accuracy_score(y_test, y_pred_test) * 100\n",
    "        \n",
    "        # Hasil\n",
    "        print(f\"Model {name}:\")\n",
    "        print(f\"Akurasi Training: {train_acc:.2f}%\")\n",
    "        print(f\"Akurasi Testing: {test_acc:.2f}%\")\n",
    "        print(\"-----------------------------------------\")"
   ]
  },
  {
   "cell_type": "code",
   "execution_count": null,
   "id": "089c4905-b5c7-437d-8e42-ff12d090a090",
   "metadata": {},
   "outputs": [],
   "source": []
  },
  {
   "cell_type": "code",
   "execution_count": null,
   "id": "51c739c7-6ba6-46cc-b916-9f34c1ce10de",
   "metadata": {},
   "outputs": [],
   "source": []
  }
 ],
 "metadata": {
  "kernelspec": {
   "display_name": "Python [conda env:base] *",
   "language": "python",
   "name": "conda-base-py"
  },
  "language_info": {
   "codemirror_mode": {
    "name": "ipython",
    "version": 3
   },
   "file_extension": ".py",
   "mimetype": "text/x-python",
   "name": "python",
   "nbconvert_exporter": "python",
   "pygments_lexer": "ipython3",
   "version": "3.12.7"
  }
 },
 "nbformat": 4,
 "nbformat_minor": 5
}
