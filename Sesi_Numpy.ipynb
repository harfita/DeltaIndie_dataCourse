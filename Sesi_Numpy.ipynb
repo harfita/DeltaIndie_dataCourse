{
 "cells": [
  {
   "cell_type": "markdown",
   "id": "662a9745-c156-4ee9-bd4e-32fbeb7df886",
   "metadata": {},
   "source": [
    "Belajar Numpy"
   ]
  },
  {
   "cell_type": "markdown",
   "id": "0dabe5a8-c763-40ea-9c42-ede3b672bd79",
   "metadata": {},
   "source": [
    "Numpy adalah pustaka python open source yang digunakan hampir disemua bidang data science. Numpy digunakan untuk melakukan operasi matematika, dapat dikolaborasikan dengan libbrary lain. Pada intinya Numpay dapat membuat multidimensi list atau matriks"
   ]
  },
  {
   "cell_type": "markdown",
   "id": "7d971df7-fb2f-41b0-bac9-9ac322f66b23",
   "metadata": {},
   "source": [
    "1. cara Menginstal Numpy\n",
    "#pip install numpy"
   ]
  },
  {
   "cell_type": "code",
   "execution_count": 1,
   "id": "8141fc64-02f4-4b7c-b774-d782cb1b772b",
   "metadata": {},
   "outputs": [
    {
     "name": "stdout",
     "output_type": "stream",
     "text": [
      "1.26.4\n"
     ]
    }
   ],
   "source": [
    "import numpy\n",
    "print(numpy.__version__)"
   ]
  },
  {
   "cell_type": "markdown",
   "id": "d76c62d4-d2e6-4a06-bdce-21710d57fd75",
   "metadata": {},
   "source": [
    "basic dari numpy adalah array. Array itu apa?\n",
    "\n",
    "Array"
   ]
  },
  {
   "cell_type": "code",
   "execution_count": 4,
   "id": "9ef81bec-854f-43b7-8805-68c68eae4c03",
   "metadata": {},
   "outputs": [],
   "source": [
    "import numpy as np #kolom sudah aktif dan berjalan"
   ]
  },
  {
   "cell_type": "code",
   "execution_count": 6,
   "id": "f4978cde-dc62-47d8-a89f-f07f40176fc5",
   "metadata": {},
   "outputs": [
    {
     "data": {
      "text/plain": [
       "array([1, 2, 3])"
      ]
     },
     "execution_count": 6,
     "metadata": {},
     "output_type": "execute_result"
    }
   ],
   "source": [
    "#untuk membuat kita menggunakan np.array()\n",
    "a = np.array([1,2,3])\n",
    "a"
   ]
  },
  {
   "cell_type": "code",
   "execution_count": 8,
   "id": "0b27562e-3665-4b50-aea6-8e32a28f7d75",
   "metadata": {},
   "outputs": [
    {
     "data": {
      "text/plain": [
       "array([0., 0., 0., 0., 0., 0., 0., 0., 0., 0.])"
      ]
     },
     "execution_count": 8,
     "metadata": {},
     "output_type": "execute_result"
    }
   ],
   "source": [
    "#array isinya 0 sebanyak 5\n",
    "b = np.zeros(10)\n",
    "b"
   ]
  },
  {
   "cell_type": "code",
   "execution_count": 10,
   "id": "7555e775-7cbf-414b-8a9d-550182e5e8f4",
   "metadata": {},
   "outputs": [
    {
     "data": {
      "text/plain": [
       "array([1., 1., 1., 1., 1., 1., 1., 1., 1., 1.])"
      ]
     },
     "execution_count": 10,
     "metadata": {},
     "output_type": "execute_result"
    }
   ],
   "source": [
    "#array isinya 1 sebanyak 5 kali\n",
    "c = np.ones(10)\n",
    "c"
   ]
  },
  {
   "cell_type": "code",
   "execution_count": 12,
   "id": "e98dad03-6c45-4b18-b6a3-f693af086b03",
   "metadata": {},
   "outputs": [],
   "source": [
    "#array kosong np.empty"
   ]
  },
  {
   "cell_type": "code",
   "execution_count": 14,
   "id": "1fbaf077-aef0-45df-a09b-7e943a3e44a5",
   "metadata": {},
   "outputs": [
    {
     "data": {
      "text/plain": [
       "array([0, 1, 2, 3])"
      ]
     },
     "execution_count": 14,
     "metadata": {},
     "output_type": "execute_result"
    }
   ],
   "source": [
    "#(start, stop, step)\n",
    "#for i in range(1, 11, 2) (start, stop-1)\n",
    "#arange (start, stop, step)\n",
    "d = np.arange(4)\n",
    "d"
   ]
  },
  {
   "cell_type": "code",
   "execution_count": 16,
   "id": "d44bff58-2842-44ea-a297-7d1726fe5cf3",
   "metadata": {},
   "outputs": [
    {
     "data": {
      "text/plain": [
       "array([ 1,  2,  3,  4,  5,  6,  7,  8,  9, 10])"
      ]
     },
     "execution_count": 16,
     "metadata": {},
     "output_type": "execute_result"
    }
   ],
   "source": [
    "np.arange(1, 11)"
   ]
  },
  {
   "cell_type": "code",
   "execution_count": 18,
   "id": "feeda215-65cf-4a59-b3e4-eeef11687d60",
   "metadata": {},
   "outputs": [
    {
     "data": {
      "text/plain": [
       "array([1, 3, 5, 7, 9])"
      ]
     },
     "execution_count": 18,
     "metadata": {},
     "output_type": "execute_result"
    }
   ],
   "source": [
    "np.arange(1, 11, 2)"
   ]
  },
  {
   "cell_type": "markdown",
   "id": "3e28134a-7828-465a-9269-c8a1738c0579",
   "metadata": {},
   "source": [
    "tambah array, Hapus array, dan mengurutkan Array"
   ]
  },
  {
   "cell_type": "markdown",
   "id": "2ccf68a9-3cdb-430c-a8fe-fca5800a1e60",
   "metadata": {},
   "source": [
    "menambahkan data kedalam Array"
   ]
  },
  {
   "cell_type": "code",
   "execution_count": 22,
   "id": "52570a54-996a-49f5-afbb-7d288e3ad87f",
   "metadata": {},
   "outputs": [
    {
     "data": {
      "text/plain": [
       "array([  1,  34,   2,   7,   8,  20,   3,   5,   7,  32,   5,  10, 100])"
      ]
     },
     "execution_count": 22,
     "metadata": {},
     "output_type": "execute_result"
    }
   ],
   "source": [
    "#np.append()\n",
    "array2 = np.array([1,34,2,7,8,20,3,5,7,32])\n",
    "np.append(array2,[5,10,100])"
   ]
  },
  {
   "cell_type": "code",
   "execution_count": 14,
   "id": "e6eeb291-fa0b-4422-b1aa-4d7d0dce95b2",
   "metadata": {},
   "outputs": [
    {
     "data": {
      "text/plain": [
       "array([  3,   4,   7,   9,  18,   7,  26,  89,  10, 101,  10])"
      ]
     },
     "execution_count": 14,
     "metadata": {},
     "output_type": "execute_result"
    }
   ],
   "source": [
    "array1 = np.array([3,4,7,9,18,7,26,89])\n",
    "array1 = np.append(array1,[10,101,10])\n",
    "array1"
   ]
  },
  {
   "cell_type": "markdown",
   "id": "12f9bf83-9cad-4e96-864c-5e2ee8b52fd5",
   "metadata": {},
   "source": [
    "Remove"
   ]
  },
  {
   "cell_type": "code",
   "execution_count": 15,
   "id": "a66c9745-cad1-4df5-9aec-f48ea66bdda4",
   "metadata": {},
   "outputs": [
    {
     "data": {
      "text/plain": [
       "array([  3,   4,   7,   9,  18,   7,  26,  89,  10, 101,  10])"
      ]
     },
     "execution_count": 15,
     "metadata": {},
     "output_type": "execute_result"
    }
   ],
   "source": [
    "array1"
   ]
  },
  {
   "cell_type": "code",
   "execution_count": 18,
   "id": "d96a048f-e880-440e-91d6-d48360d49970",
   "metadata": {},
   "outputs": [
    {
     "data": {
      "text/plain": [
       "array([  3,   7,   9,  18,   7,  26,  89,  10, 101,  10])"
      ]
     },
     "execution_count": 18,
     "metadata": {},
     "output_type": "execute_result"
    }
   ],
   "source": [
    "array1_hapus = np.delete(array1,1)\n",
    "array1_hapus"
   ]
  },
  {
   "cell_type": "markdown",
   "id": "4c6b6410-0398-40af-a0ed-4e9a1aba9c00",
   "metadata": {},
   "source": [
    "sort"
   ]
  },
  {
   "cell_type": "code",
   "execution_count": 19,
   "id": "9975c119-99ff-4c21-b831-ac555c22c325",
   "metadata": {},
   "outputs": [
    {
     "data": {
      "text/plain": [
       "array([ 1, 34,  2,  7,  8, 20,  3,  5,  7, 32])"
      ]
     },
     "execution_count": 19,
     "metadata": {},
     "output_type": "execute_result"
    }
   ],
   "source": [
    "array2"
   ]
  },
  {
   "cell_type": "code",
   "execution_count": 20,
   "id": "42c3afc6-a97b-407e-853c-946b4782d68a",
   "metadata": {},
   "outputs": [
    {
     "data": {
      "text/plain": [
       "array([ 1,  2,  3,  5,  7,  7,  8, 20, 32, 34])"
      ]
     },
     "execution_count": 20,
     "metadata": {},
     "output_type": "execute_result"
    }
   ],
   "source": [
    "np.sort(array2)"
   ]
  },
  {
   "cell_type": "markdown",
   "id": "70b7f83e-bae6-49d5-bd3d-2910590db506",
   "metadata": {},
   "source": [
    "array 2Dimensi"
   ]
  },
  {
   "cell_type": "code",
   "execution_count": 21,
   "id": "0d3ef5f4-a939-4e02-a04c-dc171dd7c1c8",
   "metadata": {},
   "outputs": [
    {
     "data": {
      "text/plain": [
       "array([2, 3, 4, 5, 6, 7])"
      ]
     },
     "execution_count": 21,
     "metadata": {},
     "output_type": "execute_result"
    }
   ],
   "source": [
    "#ciri khas dari dimensi\n",
    "#satu dimensi\n",
    "array_baru = np.array([2,3,4,5,6,7])\n",
    "array_baru"
   ]
  },
  {
   "cell_type": "code",
   "execution_count": 44,
   "id": "83992091-fae3-49f2-913d-dc48461d5867",
   "metadata": {},
   "outputs": [
    {
     "data": {
      "text/plain": [
       "array([[ 1,  2,  3,  3],\n",
       "       [ 4,  5,  6,  0],\n",
       "       [ 4,  6,  7,  8],\n",
       "       [11, 10,  8,  6]])"
      ]
     },
     "execution_count": 44,
     "metadata": {},
     "output_type": "execute_result"
    }
   ],
   "source": [
    "#dua dimensi\n",
    "array_2d = np.array([[1,2,3,3], ##baris 0\n",
    "                     [4,5,6,0], ##baris 1 \n",
    "                     [4,6,7,8], ##baris 2\n",
    "                     [11,10,8,6] ##baris 3\n",
    "                    ])\n",
    "array_2d"
   ]
  },
  {
   "cell_type": "code",
   "execution_count": 46,
   "id": "3c095474-f592-4847-b85b-73dbbc43ce71",
   "metadata": {},
   "outputs": [
    {
     "data": {
      "text/plain": [
       "array([11, 10,  8,  6])"
      ]
     },
     "execution_count": 46,
     "metadata": {},
     "output_type": "execute_result"
    }
   ],
   "source": [
    "#mau mengakses ROW/ Baris\n",
    "array_2d[3]"
   ]
  },
  {
   "cell_type": "code",
   "execution_count": 47,
   "id": "f1901fe8-7a1e-494f-b37d-8f91bf07007b",
   "metadata": {},
   "outputs": [
    {
     "data": {
      "text/plain": [
       "7"
      ]
     },
     "execution_count": 47,
     "metadata": {},
     "output_type": "execute_result"
    }
   ],
   "source": [
    "#mau mengakses baris dan kolom\n",
    "array_2d[2,2]"
   ]
  },
  {
   "cell_type": "code",
   "execution_count": 48,
   "id": "1325c33b-8e57-472b-a00b-ab09a4368a60",
   "metadata": {},
   "outputs": [
    {
     "data": {
      "text/plain": [
       "array([3, 6, 7, 8])"
      ]
     },
     "execution_count": 48,
     "metadata": {},
     "output_type": "execute_result"
    }
   ],
   "source": [
    "#mau mengakses kolom \n",
    "array_2d[:,2]"
   ]
  },
  {
   "cell_type": "code",
   "execution_count": 49,
   "id": "01b9a9e2-83e6-4738-9b9a-28089b0e12af",
   "metadata": {},
   "outputs": [
    {
     "data": {
      "text/plain": [
       "array([[ 1,  3],\n",
       "       [ 4,  6],\n",
       "       [ 4,  7],\n",
       "       [11,  8]])"
      ]
     },
     "execution_count": 49,
     "metadata": {},
     "output_type": "execute_result"
    }
   ],
   "source": [
    "#mau mengakses kolom\n",
    "array_2d[:,[0,2]]"
   ]
  },
  {
   "cell_type": "markdown",
   "id": "7590ea8c-5352-41af-b890-f10c527b352b",
   "metadata": {},
   "source": [
    "ini untuk reshape"
   ]
  },
  {
   "cell_type": "code",
   "execution_count": 24,
   "id": "69a6601d-bed1-482b-be52-926d3d562ef4",
   "metadata": {},
   "outputs": [
    {
     "data": {
      "text/plain": [
       "array([0, 1, 2, 3, 4, 5])"
      ]
     },
     "execution_count": 24,
     "metadata": {},
     "output_type": "execute_result"
    }
   ],
   "source": [
    "d = np.arange(6)\n",
    "d #1 baris 6 kolom"
   ]
  },
  {
   "cell_type": "code",
   "execution_count": 26,
   "id": "feea5e15-5284-4eef-a996-f6bca09a9da1",
   "metadata": {},
   "outputs": [
    {
     "data": {
      "text/plain": [
       "array([[0, 1],\n",
       "       [2, 3],\n",
       "       [4, 5]])"
      ]
     },
     "execution_count": 26,
     "metadata": {},
     "output_type": "execute_result"
    }
   ],
   "source": [
    "d_reshape = d.reshape(3,2)\n",
    "d_reshape"
   ]
  },
  {
   "cell_type": "markdown",
   "id": "156da1a7-330d-40f9-926c-3d6fe9a0a94d",
   "metadata": {},
   "source": [
    "#tugas mini quiz\n",
    "\n",
    "#buatlah array yang berisikan nilai 1-1000 dengan step bernilai 10\n",
    "\n",
    "#2. buatlah array yang berisikan bilangan genap dari 0-10, lalu tambahkan nilai 100 didalam listnya\n",
    "\n",
    "#3. buatlah array bernilai 0 sebanyak 20 kali"
   ]
  },
  {
   "cell_type": "code",
   "execution_count": 37,
   "id": "f7a148a2-25e3-454b-b4cc-f6a2f106dcc2",
   "metadata": {},
   "outputs": [
    {
     "data": {
      "text/plain": [
       "array([  1,  11,  21,  31,  41,  51,  61,  71,  81,  91, 101, 111, 121,\n",
       "       131, 141, 151, 161, 171, 181, 191, 201, 211, 221, 231, 241, 251,\n",
       "       261, 271, 281, 291, 301, 311, 321, 331, 341, 351, 361, 371, 381,\n",
       "       391, 401, 411, 421, 431, 441, 451, 461, 471, 481, 491, 501, 511,\n",
       "       521, 531, 541, 551, 561, 571, 581, 591, 601, 611, 621, 631, 641,\n",
       "       651, 661, 671, 681, 691, 701, 711, 721, 731, 741, 751, 761, 771,\n",
       "       781, 791, 801, 811, 821, 831, 841, 851, 861, 871, 881, 891, 901,\n",
       "       911, 921, 931, 941, 951, 961, 971, 981, 991])"
      ]
     },
     "execution_count": 37,
     "metadata": {},
     "output_type": "execute_result"
    }
   ],
   "source": [
    "f = np.arange(1, 1001, 10)\n",
    "f"
   ]
  },
  {
   "cell_type": "code",
   "execution_count": 34,
   "id": "ce486647-2572-4efb-82bd-39f973271e6e",
   "metadata": {},
   "outputs": [
    {
     "data": {
      "text/plain": [
       "array([ 0,  2,  4,  6,  8, 10])"
      ]
     },
     "execution_count": 34,
     "metadata": {},
     "output_type": "execute_result"
    }
   ],
   "source": [
    "g =  np.arange(0, 11, 2)\n",
    "g"
   ]
  },
  {
   "cell_type": "code",
   "execution_count": 36,
   "id": "42ec41c9-7202-4ac1-ae1c-4ddae40fe768",
   "metadata": {},
   "outputs": [
    {
     "data": {
      "text/plain": [
       "array([0., 0., 0., 0., 0., 0., 0., 0., 0., 0., 0., 0., 0., 0., 0., 0., 0.,\n",
       "       0., 0., 0.])"
      ]
     },
     "execution_count": 36,
     "metadata": {},
     "output_type": "execute_result"
    }
   ],
   "source": [
    "h = np.zeros(20)\n",
    "h"
   ]
  },
  {
   "cell_type": "markdown",
   "id": "a0c81966-dd30-448f-a9eb-c1b4253db24e",
   "metadata": {},
   "source": [
    "indexing dan slicing"
   ]
  },
  {
   "cell_type": "code",
   "execution_count": 39,
   "id": "fa2ba25f-4b71-4cb7-b934-c1b8e51997fc",
   "metadata": {},
   "outputs": [
    {
     "data": {
      "text/plain": [
       "array([ 1,  2,  3,  4, 12,  5,  6,  7,  8,  9, 32,  2,  3,  5])"
      ]
     },
     "execution_count": 39,
     "metadata": {},
     "output_type": "execute_result"
    }
   ],
   "source": [
    "array3 = np.array([1,2,3,4,12,5,6,7,8,9,32,2,3,5])\n",
    "array3"
   ]
  },
  {
   "cell_type": "code",
   "execution_count": 40,
   "id": "ee8359a7-a1da-4feb-aab0-ac8b8ca76a87",
   "metadata": {},
   "outputs": [
    {
     "name": "stdout",
     "output_type": "stream",
     "text": [
      "[ 1  2  3  4 12  5  6  7  8  9 32  2  3]\n"
     ]
    }
   ],
   "source": [
    "print(array3[:-1])"
   ]
  },
  {
   "cell_type": "code",
   "execution_count": 41,
   "id": "4ed02ec7-ef49-456d-8c29-b92f858d89e4",
   "metadata": {},
   "outputs": [
    {
     "name": "stdout",
     "output_type": "stream",
     "text": [
      "nohtyP\n"
     ]
    }
   ],
   "source": [
    "kata = \"Python\"\n",
    "print(kata[::-1])"
   ]
  },
  {
   "cell_type": "code",
   "execution_count": 54,
   "id": "6895cc82-5745-49de-ab41-7678a09f23b3",
   "metadata": {},
   "outputs": [
    {
     "data": {
      "text/plain": [
       "array([[  6,  12,  32,  42],\n",
       "       [  2, 232,  12,  23],\n",
       "       [ 41,  22,  13,  24],\n",
       "       [111, 210,  42,  34]])"
      ]
     },
     "execution_count": 54,
     "metadata": {},
     "output_type": "execute_result"
    }
   ],
   "source": [
    "#miniquiz 2 slicing dan akses mini data\n",
    "array_miniQuiz = np.array([[6,12,32,42],\n",
    "                          [2,232,12,23],\n",
    "                          [41,22,13,24],\n",
    "                          [111,210,42,34]\n",
    "                          ])\n",
    "array_miniQuiz\n",
    "\n",
    "#1. tolong berikan berikan ouput dengan mengakses kolom 2 dan 3\n",
    "#2. tolong berikan output dengan mengakses baris 2 dengan elemen data ke 1\n",
    "#3. tolong berikan output dengan mengakses baris 1 dan 2\n",
    "\n",
    "#miniquiz slicing\n",
    "#1. aku punya kata \"NGODING' ---> DING\n",
    "#2. aku punya kata \"Kereta\" ----> RETA\n",
    "#3. aku punya kata \"JAUH\" ----> huaj\n",
    "\n"
   ]
  },
  {
   "cell_type": "code",
   "execution_count": 58,
   "id": "423fc644-0acf-4914-b4c9-438f9dbaacee",
   "metadata": {},
   "outputs": [
    {
     "data": {
      "text/plain": [
       "array([[ 12,  42],\n",
       "       [232,  23],\n",
       "       [ 22,  24],\n",
       "       [210,  34]])"
      ]
     },
     "execution_count": 58,
     "metadata": {},
     "output_type": "execute_result"
    }
   ],
   "source": [
    "array_miniQuiz[:,[1,3]]"
   ]
  },
  {
   "cell_type": "code",
   "execution_count": 59,
   "id": "14a04a57-f03b-48a4-8df4-f4597dcd7699",
   "metadata": {},
   "outputs": [
    {
     "data": {
      "text/plain": [
       "2"
      ]
     },
     "execution_count": 59,
     "metadata": {},
     "output_type": "execute_result"
    }
   ],
   "source": [
    "array_miniQuiz[1,0]"
   ]
  },
  {
   "cell_type": "code",
   "execution_count": 61,
   "id": "4255a853-a29f-4728-8445-f8463bdeffca",
   "metadata": {},
   "outputs": [
    {
     "data": {
      "text/plain": [
       "array([[  6,  12,  32,  42],\n",
       "       [  2, 232,  12,  23]])"
      ]
     },
     "execution_count": 61,
     "metadata": {},
     "output_type": "execute_result"
    }
   ],
   "source": [
    "array_miniQuiz[[0,1]]"
   ]
  },
  {
   "cell_type": "code",
   "execution_count": 66,
   "id": "42ce025c-74dc-40d1-8ebd-b03e18a95ff9",
   "metadata": {},
   "outputs": [
    {
     "name": "stdout",
     "output_type": "stream",
     "text": [
      "DING\n"
     ]
    }
   ],
   "source": [
    "j= \"NGODING\"\n",
    "print(j[3:7])"
   ]
  },
  {
   "cell_type": "code",
   "execution_count": 68,
   "id": "b1fec2b0-c1a2-4ef1-a128-48d377bcd902",
   "metadata": {},
   "outputs": [
    {
     "name": "stdout",
     "output_type": "stream",
     "text": [
      "RETA\n"
     ]
    }
   ],
   "source": [
    "k= \"Kereta\"\n",
    "print(k[2:6].upper())"
   ]
  },
  {
   "cell_type": "code",
   "execution_count": 27,
   "id": "8a113abe-beda-4748-b5b5-802290379d23",
   "metadata": {},
   "outputs": [
    {
     "name": "stdout",
     "output_type": "stream",
     "text": [
      "huaj\n"
     ]
    }
   ],
   "source": [
    "l= \"JAUH\"\n",
    "print(l[::-1].lower())"
   ]
  },
  {
   "cell_type": "code",
   "execution_count": 35,
   "id": "65605274-43e1-428e-a845-b4bb2574f59b",
   "metadata": {},
   "outputs": [
    {
     "data": {
      "text/plain": [
       "array([[ 9,  8,  5,  4],\n",
       "       [10, 11, 12, 13],\n",
       "       [ 6,  8,  7,  4],\n",
       "       [ 2,  3,  4,  5]])"
      ]
     },
     "execution_count": 35,
     "metadata": {},
     "output_type": "execute_result"
    }
   ],
   "source": [
    "#mengecek dimensi\n",
    "\n",
    "array_example = np.array([[9,8,5,4],\n",
    "                          [10,11,12,13],\n",
    "                          [6,8,7,4],\n",
    "                          [2,3,4,5]])\n",
    "array_example"
   ]
  },
  {
   "cell_type": "code",
   "execution_count": 31,
   "id": "9d7d0b82-4e7c-45c8-adeb-cb08d52fcc13",
   "metadata": {},
   "outputs": [
    {
     "data": {
      "text/plain": [
       "2"
      ]
     },
     "execution_count": 31,
     "metadata": {},
     "output_type": "execute_result"
    }
   ],
   "source": [
    "array_example.ndim #berapa dimensi didalam array"
   ]
  },
  {
   "cell_type": "code",
   "execution_count": 33,
   "id": "2d347fed-00e8-4d0e-9ce9-2cc1abfc5a99",
   "metadata": {},
   "outputs": [
    {
     "data": {
      "text/plain": [
       "1"
      ]
     },
     "execution_count": 33,
     "metadata": {},
     "output_type": "execute_result"
    }
   ],
   "source": [
    "sample_array = np.array([1,2,3,4])\n",
    "sample_array.ndim"
   ]
  },
  {
   "cell_type": "code",
   "execution_count": 37,
   "id": "420c6962-4ff3-4701-8b6f-d20748402843",
   "metadata": {},
   "outputs": [
    {
     "data": {
      "text/plain": [
       "16"
      ]
     },
     "execution_count": 37,
     "metadata": {},
     "output_type": "execute_result"
    }
   ],
   "source": [
    "#mengscek ukuran data(menghitung total keseluruhan data) mirip dengan fungsi len()\n",
    "array_example.size"
   ]
  },
  {
   "cell_type": "code",
   "execution_count": 41,
   "id": "067ddb36-5cb9-4258-89ed-a67f571d3171",
   "metadata": {},
   "outputs": [
    {
     "data": {
      "text/plain": [
       "4"
      ]
     },
     "execution_count": 41,
     "metadata": {},
     "output_type": "execute_result"
    }
   ],
   "source": [
    "sample_array.size"
   ]
  },
  {
   "cell_type": "code",
   "execution_count": 45,
   "id": "6f8b3b8f-54e1-4afc-b184-e2bca62350bf",
   "metadata": {},
   "outputs": [
    {
     "data": {
      "text/plain": [
       "(4, 4)"
      ]
     },
     "execution_count": 45,
     "metadata": {},
     "output_type": "execute_result"
    }
   ],
   "source": [
    "array_example.shape #(mengetahui jumlah baris (digit 1) dan kolom(digit2)\n"
   ]
  },
  {
   "cell_type": "code",
   "execution_count": 47,
   "id": "5c1432e5-e04e-4d21-bc11-37f18a2aca3a",
   "metadata": {},
   "outputs": [
    {
     "data": {
      "text/plain": [
       "array([0, 1, 2, 3, 4, 5])"
      ]
     },
     "execution_count": 47,
     "metadata": {},
     "output_type": "execute_result"
    }
   ],
   "source": [
    "#reshape (menyusun ulang), \n",
    "a = np.arange(6)\n",
    "a"
   ]
  },
  {
   "cell_type": "code",
   "execution_count": 53,
   "id": "57eecd5d-9011-43ae-b5b9-855aa0adad98",
   "metadata": {},
   "outputs": [
    {
     "name": "stdout",
     "output_type": "stream",
     "text": [
      "(3, 2)\n"
     ]
    },
    {
     "data": {
      "text/plain": [
       "array([[0, 1],\n",
       "       [2, 3],\n",
       "       [4, 5]])"
      ]
     },
     "execution_count": 53,
     "metadata": {},
     "output_type": "execute_result"
    }
   ],
   "source": [
    "b = a.reshape(3,2)\n",
    "print(b.shape)\n",
    "b"
   ]
  },
  {
   "cell_type": "code",
   "execution_count": 55,
   "id": "63cf144c-b21c-4d1b-9377-1ddb5520b2e3",
   "metadata": {},
   "outputs": [
    {
     "name": "stdout",
     "output_type": "stream",
     "text": [
      "(2, 3)\n"
     ]
    },
    {
     "data": {
      "text/plain": [
       "array([[0, 1, 2],\n",
       "       [3, 4, 5]])"
      ]
     },
     "execution_count": 55,
     "metadata": {},
     "output_type": "execute_result"
    }
   ],
   "source": [
    "c = a.reshape(2,3)\n",
    "print(c.shape)\n",
    "c"
   ]
  },
  {
   "cell_type": "code",
   "execution_count": 59,
   "id": "a3c8d89a-02e2-48aa-87f7-9e5ab0aa1578",
   "metadata": {},
   "outputs": [
    {
     "name": "stdout",
     "output_type": "stream",
     "text": [
      "(6, 1)\n",
      "[[0]\n",
      " [1]\n",
      " [2]\n",
      " [3]\n",
      " [4]\n",
      " [5]]\n"
     ]
    }
   ],
   "source": [
    "d = a.reshape(6,1)\n",
    "print(d.shape)\n",
    "print(d)"
   ]
  },
  {
   "cell_type": "code",
   "execution_count": 61,
   "id": "546def2a-088e-4b4d-a331-f20b9fd23d61",
   "metadata": {},
   "outputs": [
    {
     "name": "stdout",
     "output_type": "stream",
     "text": [
      "(6,)\n",
      "[0 1 2 3 4 5]\n"
     ]
    }
   ],
   "source": [
    "#convert 1D to 2D, 2D to 1D\n",
    "\n",
    "print(a.shape)\n",
    "print(a)"
   ]
  },
  {
   "cell_type": "code",
   "execution_count": 65,
   "id": "407ffbaa-8a24-4d00-ae1d-2be740faf0fb",
   "metadata": {},
   "outputs": [
    {
     "name": "stdout",
     "output_type": "stream",
     "text": [
      "(1, 6)\n",
      "2\n",
      "[[0 1 2 3 4 5]]\n"
     ]
    }
   ],
   "source": [
    "a2 = a[np.newaxis]\n",
    "print(a2.shape)\n",
    "print(a2.ndim)\n",
    "print(a2)"
   ]
  },
  {
   "cell_type": "code",
   "execution_count": 75,
   "id": "35f9340d-8625-4d55-bf2c-0816a4c64585",
   "metadata": {},
   "outputs": [
    {
     "data": {
      "text/plain": [
       "array([ 9,  8,  5,  4, 10, 11, 12, 13,  6,  8,  7,  4,  2,  3,  4,  5])"
      ]
     },
     "execution_count": 75,
     "metadata": {},
     "output_type": "execute_result"
    }
   ],
   "source": [
    "array_example2 = array_example.flatten()\n",
    "array_example2"
   ]
  },
  {
   "cell_type": "code",
   "execution_count": 77,
   "id": "d2b2a495-eb2f-4885-a93c-c5c277e5d7ca",
   "metadata": {},
   "outputs": [
    {
     "data": {
      "text/plain": [
       "(4, 4)"
      ]
     },
     "execution_count": 77,
     "metadata": {},
     "output_type": "execute_result"
    }
   ],
   "source": [
    "array_example.shape"
   ]
  },
  {
   "cell_type": "code",
   "execution_count": 79,
   "id": "cfc54af3-eb4b-41fa-992d-87c230aef61f",
   "metadata": {},
   "outputs": [
    {
     "data": {
      "text/plain": [
       "(16,)"
      ]
     },
     "execution_count": 79,
     "metadata": {},
     "output_type": "execute_result"
    }
   ],
   "source": [
    "array_example2.shape"
   ]
  },
  {
   "cell_type": "code",
   "execution_count": 81,
   "id": "b0e01e39-72d7-42b7-9ea3-554953a9b2da",
   "metadata": {},
   "outputs": [
    {
     "data": {
      "text/plain": [
       "array([[ 9,  8,  5,  4],\n",
       "       [10, 11, 12, 13],\n",
       "       [ 6,  8,  7,  4],\n",
       "       [ 2,  3,  4,  5]])"
      ]
     },
     "execution_count": 81,
     "metadata": {},
     "output_type": "execute_result"
    }
   ],
   "source": [
    "#logical Numpy\n",
    "array_example"
   ]
  },
  {
   "cell_type": "code",
   "execution_count": 83,
   "id": "d155adc8-f5b8-4815-a5c7-0fa7ee59e5b0",
   "metadata": {},
   "outputs": [
    {
     "data": {
      "text/plain": [
       "array([[ True,  True, False, False],\n",
       "       [ True,  True,  True,  True],\n",
       "       [False,  True, False, False],\n",
       "       [False, False, False, False]])"
      ]
     },
     "execution_count": 83,
     "metadata": {},
     "output_type": "execute_result"
    }
   ],
   "source": [
    "array_example > 7"
   ]
  },
  {
   "cell_type": "code",
   "execution_count": 87,
   "id": "b9bfe0c0-f705-4bee-bbf0-ddc8cb25cd3c",
   "metadata": {},
   "outputs": [
    {
     "data": {
      "text/plain": [
       "array([ 9,  8, 10, 11, 12, 13,  8])"
      ]
     },
     "execution_count": 87,
     "metadata": {},
     "output_type": "execute_result"
    }
   ],
   "source": [
    "array_example[array_example>7]"
   ]
  },
  {
   "cell_type": "code",
   "execution_count": 89,
   "id": "9c4e17c7-9bff-4c5e-b3fe-35d5bc99110a",
   "metadata": {},
   "outputs": [
    {
     "data": {
      "text/plain": [
       "1"
      ]
     },
     "execution_count": 89,
     "metadata": {},
     "output_type": "execute_result"
    }
   ],
   "source": [
    "array_example[array_example>7].ndim"
   ]
  },
  {
   "cell_type": "code",
   "execution_count": 91,
   "id": "de8f68e6-6dbb-4dbc-a185-d81528d3331e",
   "metadata": {},
   "outputs": [
    {
     "data": {
      "text/plain": [
       "(7,)"
      ]
     },
     "execution_count": 91,
     "metadata": {},
     "output_type": "execute_result"
    }
   ],
   "source": [
    "array_example[array_example>7].shape"
   ]
  },
  {
   "cell_type": "code",
   "execution_count": 93,
   "id": "08636c61-26d3-4637-a353-3966a8123401",
   "metadata": {},
   "outputs": [
    {
     "data": {
      "text/plain": [
       "7"
      ]
     },
     "execution_count": 93,
     "metadata": {},
     "output_type": "execute_result"
    }
   ],
   "source": [
    "array_example[array_example>7].size"
   ]
  },
  {
   "cell_type": "code",
   "execution_count": 105,
   "id": "daa80788-a3e4-4236-a54c-5f0267ddb068",
   "metadata": {},
   "outputs": [
    {
     "data": {
      "text/plain": [
       "array([0, 1, 2, 3, 4, 5, 6, 7, 8, 9])"
      ]
     },
     "execution_count": 105,
     "metadata": {},
     "output_type": "execute_result"
    }
   ],
   "source": [
    "d = np.arange(10)\n",
    "d"
   ]
  },
  {
   "cell_type": "code",
   "execution_count": 111,
   "id": "2ff4e8cf-d566-4ebf-af61-58b80dd9212f",
   "metadata": {},
   "outputs": [
    {
     "name": "stdout",
     "output_type": "stream",
     "text": [
      "[0 2 4 6 8]\n"
     ]
    }
   ],
   "source": [
    "#bilangan di modulo 2 sisanya adalah 0\n",
    "#2%2 --> 0 genap, 4%2 --> 0, genap, 5%2 --> 1 ganjil.\n",
    "\n",
    "bilangan_genap = (d%2 == 0)\n",
    "print(d[bilangan_genap])"
   ]
  },
  {
   "cell_type": "code",
   "execution_count": 113,
   "id": "5b8f569c-a75f-4093-9a25-902bf8818038",
   "metadata": {},
   "outputs": [
    {
     "data": {
      "text/plain": [
       "array([3, 4, 5, 6, 7, 8, 9])"
      ]
     },
     "execution_count": 113,
     "metadata": {},
     "output_type": "execute_result"
    }
   ],
   "source": [
    "# d > 2 dan d < 11\n",
    "# 12 < age < 15\n",
    "#operator and (&)\n",
    "double_logic = d[(d>2) & (d<11)]\n",
    "double_logic"
   ]
  },
  {
   "cell_type": "code",
   "execution_count": 115,
   "id": "3fc6d18a-412c-4101-a6c4-828d315e4e4c",
   "metadata": {},
   "outputs": [
    {
     "data": {
      "text/plain": [
       "array([0, 1, 2, 3, 4, 5, 6, 7, 8, 9])"
      ]
     },
     "execution_count": 115,
     "metadata": {},
     "output_type": "execute_result"
    }
   ],
   "source": [
    "double_logic2 = d[(d>2) | (d<11)]\n",
    "double_logic2"
   ]
  },
  {
   "cell_type": "code",
   "execution_count": 119,
   "id": "db86cc6b-a534-4090-ba26-8b7aa632c2c4",
   "metadata": {},
   "outputs": [
    {
     "name": "stdout",
     "output_type": "stream",
     "text": [
      "True\n",
      "False\n"
     ]
    }
   ],
   "source": [
    "a = -2\n",
    "#if (a<1) and (a >- 3) #True or False\n",
    "#if (a>2) or (a <- 3) #True or False\n",
    "print ((a<1) and (a >- 3))\n",
    "print ((a>2) or (a <- 3))\n"
   ]
  },
  {
   "cell_type": "code",
   "execution_count": 127,
   "id": "16ddc786-ccb8-44c6-9be3-8b8e7fb063c9",
   "metadata": {},
   "outputs": [
    {
     "data": {
      "text/plain": [
       "array([0, 1, 2, 3, 4, 5, 6, 7, 8, 9])"
      ]
     },
     "execution_count": 127,
     "metadata": {},
     "output_type": "execute_result"
    }
   ],
   "source": [
    "#creating array from existing data\n",
    "# .view() ---> gunanya untuk menampilkan atau show dari data yang sudah tersedia. ingat SHOW tidak berfungsi untuk mengcopy data\n",
    "\n",
    "e = np.arange(10)\n",
    "e"
   ]
  },
  {
   "cell_type": "code",
   "execution_count": 129,
   "id": "21789c92-687b-4252-a15f-f3f955da1308",
   "metadata": {},
   "outputs": [
    {
     "data": {
      "text/plain": [
       "array([0, 1, 2, 3, 4, 5, 6, 7, 8, 9])"
      ]
     },
     "execution_count": 129,
     "metadata": {},
     "output_type": "execute_result"
    }
   ],
   "source": [
    "tampil_e = e.view()\n",
    "tampil_e"
   ]
  },
  {
   "cell_type": "code",
   "execution_count": 131,
   "id": "d2dfe40d-d312-4030-9318-84c495f93893",
   "metadata": {},
   "outputs": [
    {
     "data": {
      "text/plain": [
       "array([0, 1, 2, 3, 4, 5, 6, 7, 8, 9])"
      ]
     },
     "execution_count": 131,
     "metadata": {},
     "output_type": "execute_result"
    }
   ],
   "source": [
    "# .copy() --> gunanya untuk menyalin data dari pusat yang disimpan kedalan variabel baru\n",
    "\n",
    "tampil_ecopy = e.copy()\n",
    "tampil_ecopy"
   ]
  },
  {
   "cell_type": "code",
   "execution_count": null,
   "id": "309a9c80-d64e-4c86-9658-bd3633d2f575",
   "metadata": {},
   "outputs": [],
   "source": [
    "vstack, hstack, hsplit"
   ]
  },
  {
   "cell_type": "code",
   "execution_count": 134,
   "id": "a92ae3f8-b789-44f1-a188-61b885f11fbb",
   "metadata": {},
   "outputs": [
    {
     "data": {
      "text/plain": [
       "array([[1, 1],\n",
       "       [2, 2]])"
      ]
     },
     "execution_count": 134,
     "metadata": {},
     "output_type": "execute_result"
    }
   ],
   "source": [
    "a_1 = np.array([[1,1],[2,2]])\n",
    "a_1"
   ]
  },
  {
   "cell_type": "code",
   "execution_count": 138,
   "id": "ab26c5b8-6bd1-4302-9969-16edabdb643a",
   "metadata": {},
   "outputs": [
    {
     "data": {
      "text/plain": [
       "array([[5, 6],\n",
       "       [7, 8]])"
      ]
     },
     "execution_count": 138,
     "metadata": {},
     "output_type": "execute_result"
    }
   ],
   "source": [
    "a_2 = np.array([[5,6],[7,8]])\n",
    "a_2"
   ]
  },
  {
   "cell_type": "code",
   "execution_count": 162,
   "id": "0aa14034-6140-4331-adef-eb7376cddf42",
   "metadata": {},
   "outputs": [
    {
     "data": {
      "text/plain": [
       "array([[1, 1],\n",
       "       [2, 2],\n",
       "       [5, 6],\n",
       "       [7, 8]])"
      ]
     },
     "execution_count": 162,
     "metadata": {},
     "output_type": "execute_result"
    }
   ],
   "source": [
    "#vstack --> menggabungkan 2 array menjado satu dengan susunan vertikal\n",
    "result_vstack = np.vstack((a_1,a_2))\n",
    "result_vstack"
   ]
  },
  {
   "cell_type": "code",
   "execution_count": 164,
   "id": "f55b1c9a-f15c-4631-bbfb-f4e7faa4ee1b",
   "metadata": {},
   "outputs": [
    {
     "data": {
      "text/plain": [
       "(4, 2)"
      ]
     },
     "execution_count": 164,
     "metadata": {},
     "output_type": "execute_result"
    }
   ],
   "source": [
    "result_vstack.shape"
   ]
  },
  {
   "cell_type": "code",
   "execution_count": 171,
   "id": "d1590c18-d804-4689-980b-97186a7d3d75",
   "metadata": {},
   "outputs": [
    {
     "data": {
      "text/plain": [
       "array([[1, 1, 5, 6],\n",
       "       [2, 2, 7, 8]])"
      ]
     },
     "execution_count": 171,
     "metadata": {},
     "output_type": "execute_result"
    }
   ],
   "source": [
    "#hstack digunakan untuk menggabungkan 2 array secara horizontal\n",
    "#arr_1 = [[1,1],[2,2]]\n",
    "#arr_2 = [[5,6],[7,8]]\n",
    "#--> hstack output [ [ 1,1,5,6],\n",
    "                    #[2,2,7,8]\n",
    "#]\n",
    "\n",
    "result_hstack = np.hstack((a_1,a_2))\n",
    "result_hstack\n"
   ]
  },
  {
   "cell_type": "code",
   "execution_count": 187,
   "id": "b5f7c9e7-1180-4522-8bef-40e2f735e3bb",
   "metadata": {},
   "outputs": [
    {
     "data": {
      "text/plain": [
       "array([18,  4,  6])"
      ]
     },
     "execution_count": 187,
     "metadata": {},
     "output_type": "execute_result"
    }
   ],
   "source": [
    "#operator matematika numpy\n",
    "bilangan1 = np.array([8,2,3])\n",
    "bilangan2 = np.array([10,2,3])\n",
    "\n",
    "#pertambahan\n",
    "result = bilangan1 + bilangan2\n",
    "result"
   ]
  },
  {
   "cell_type": "code",
   "execution_count": 189,
   "id": "47e8bd4f-f10d-40fb-9006-2a868a3b7061",
   "metadata": {},
   "outputs": [
    {
     "data": {
      "text/plain": [
       "array([-2,  0,  0])"
      ]
     },
     "execution_count": 189,
     "metadata": {},
     "output_type": "execute_result"
    }
   ],
   "source": [
    "result_penguranga = bilangan1 - bilangan2\n",
    "result_penguranga"
   ]
  },
  {
   "cell_type": "code",
   "execution_count": 191,
   "id": "0a1f2b69-8009-4a94-b2c9-01c13e889b95",
   "metadata": {},
   "outputs": [
    {
     "data": {
      "text/plain": [
       "array([80,  4,  9])"
      ]
     },
     "execution_count": 191,
     "metadata": {},
     "output_type": "execute_result"
    }
   ],
   "source": [
    "result_pengkalian = bilangan1 * bilangan2\n",
    "result_pengkalian"
   ]
  },
  {
   "cell_type": "code",
   "execution_count": 193,
   "id": "4b597ad0-f9c5-4ffe-97fe-1c16d00b4564",
   "metadata": {},
   "outputs": [
    {
     "data": {
      "text/plain": [
       "array([0, 1, 1])"
      ]
     },
     "execution_count": 193,
     "metadata": {},
     "output_type": "execute_result"
    }
   ],
   "source": [
    "#pembagian\n",
    "result_pembagian = bilangan1 // bilangan2\n",
    "result_pembagian"
   ]
  },
  {
   "cell_type": "markdown",
   "id": "5c9ea6db-5a18-4310-81e7-00acceca7e6a",
   "metadata": {},
   "source": [
    "1. soal reshape\n",
    "array disimpan di variabel z bilanagan 1-100 dengan kelipatan 5,\n",
    "ubahlah dari 1D ke 2D,\n",
    "ubah jadi 2 baris\n",
    "\n",
    "3. soal vstack dan hstack,\n",
    "array1 = [5,6,7,4,2,3,4,10],\n",
    "array2 = [7,8,6,5,4,3,2,10]\n",
    "\n",
    "vstack -->\n",
    "5 6\n",
    "7 4\n",
    "2 3\n",
    "4 10\n",
    "\n",
    "hstack -->\n",
    "5 6 7 4 7 8 6 5\n",
    "2 3 4 10 4 3 2 10"
   ]
  },
  {
   "cell_type": "code",
   "execution_count": 202,
   "id": "1c2269d6-92c6-4e00-ab6b-8d0dfea5c88b",
   "metadata": {},
   "outputs": [
    {
     "name": "stdout",
     "output_type": "stream",
     "text": [
      "[ 1  6 11 16 21 26 31 36 41 46 51 56 61 66 71 76 81 86 91 96]\n",
      "(20,)\n"
     ]
    }
   ],
   "source": [
    "array_soal = np.arange(1, 101, 5)\n",
    "print(array_soal)\n",
    "print(array_soal.shape)\n"
   ]
  },
  {
   "cell_type": "code",
   "execution_count": 204,
   "id": "1d469731-962e-40ba-8661-a7cbae5a3514",
   "metadata": {},
   "outputs": [
    {
     "data": {
      "text/plain": [
       "array([[ 1,  6, 11, 16, 21, 26, 31, 36, 41, 46],\n",
       "       [51, 56, 61, 66, 71, 76, 81, 86, 91, 96]])"
      ]
     },
     "execution_count": 204,
     "metadata": {},
     "output_type": "execute_result"
    }
   ],
   "source": [
    "array_soal_reshape =  array_soal.reshape(2,10)\n",
    "array_soal_reshape"
   ]
  },
  {
   "cell_type": "code",
   "execution_count": 208,
   "id": "ff764bbf-4d84-486b-a8d5-6e27fb7b6d9e",
   "metadata": {},
   "outputs": [
    {
     "data": {
      "text/plain": [
       "array([[ 5,  6,  7,  4,  2,  3,  4, 10],\n",
       "       [ 7,  8,  6,  5,  4,  3,  2, 10]])"
      ]
     },
     "execution_count": 208,
     "metadata": {},
     "output_type": "execute_result"
    }
   ],
   "source": [
    "array1 = [5,6,7,4,2,3,4,10]\n",
    "array2 = [7,8,6,5,4,3,2,10]\n",
    "\n",
    "soal_vstack = np.vstack((array1, array2))\n",
    "soal_vstack"
   ]
  },
  {
   "cell_type": "code",
   "execution_count": 210,
   "id": "5d355cfc-245e-4eeb-8dd6-27ef81a39775",
   "metadata": {},
   "outputs": [
    {
     "data": {
      "text/plain": [
       "array([ 5,  6,  7,  4,  2,  3,  4, 10,  7,  8,  6,  5,  4,  3,  2, 10])"
      ]
     },
     "execution_count": 210,
     "metadata": {},
     "output_type": "execute_result"
    }
   ],
   "source": [
    "soal_hstack = np.hstack((array1, array2))\n",
    "soal_hstack"
   ]
  },
  {
   "cell_type": "code",
   "execution_count": null,
   "id": "89014c70-44d0-4049-9884-f9ac77428756",
   "metadata": {},
   "outputs": [],
   "source": []
  }
 ],
 "metadata": {
  "kernelspec": {
   "display_name": "Python [conda env:base] *",
   "language": "python",
   "name": "conda-base-py"
  },
  "language_info": {
   "codemirror_mode": {
    "name": "ipython",
    "version": 3
   },
   "file_extension": ".py",
   "mimetype": "text/x-python",
   "name": "python",
   "nbconvert_exporter": "python",
   "pygments_lexer": "ipython3",
   "version": "3.12.7"
  }
 },
 "nbformat": 4,
 "nbformat_minor": 5
}
