{
 "cells": [
  {
   "cell_type": "markdown",
   "id": "9a2fe127-75b8-4c11-81ce-f4ef5c82f205",
   "metadata": {},
   "source": [
    "#nur laily -->CraftLaminasi290\n",
    "1. hitunglah rata-rata penjualan dari produk kalian!\n",
    "2. Di tanggal berapakah transaksi termahal terjadi?\n",
    "3. Berapakah jumlah orderan terbanyak di produk kamu?\n",
    "4. Berapa nilai terendah tadi total pembelian yang terjadi di bulan 10 tahun 2023?\n",
    "5. Di tanggal berapa nilai harga barangmu tertinggi?"
   ]
  },
  {
   "cell_type": "code",
   "execution_count": 2,
   "id": "4dce18df-5085-441f-94a7-f0445895c26f",
   "metadata": {},
   "outputs": [],
   "source": [
    "import pandas as pd\n",
    "import numpy as np"
   ]
  },
  {
   "cell_type": "code",
   "execution_count": 56,
   "id": "e59d8947-6fae-4149-82c7-5830c0abc3c5",
   "metadata": {},
   "outputs": [
    {
     "data": {
      "text/html": [
       "<div>\n",
       "<style scoped>\n",
       "    .dataframe tbody tr th:only-of-type {\n",
       "        vertical-align: middle;\n",
       "    }\n",
       "\n",
       "    .dataframe tbody tr th {\n",
       "        vertical-align: top;\n",
       "    }\n",
       "\n",
       "    .dataframe thead th {\n",
       "        text-align: right;\n",
       "    }\n",
       "</style>\n",
       "<table border=\"1\" class=\"dataframe\">\n",
       "  <thead>\n",
       "    <tr style=\"text-align: right;\">\n",
       "      <th></th>\n",
       "      <th>Tanggal</th>\n",
       "      <th>Jenis Produk</th>\n",
       "      <th>Jumlah Order</th>\n",
       "      <th>Harga</th>\n",
       "      <th>Total</th>\n",
       "    </tr>\n",
       "  </thead>\n",
       "  <tbody>\n",
       "    <tr>\n",
       "      <th>2</th>\n",
       "      <td>05/08/2022</td>\n",
       "      <td>CraftLaminasi290</td>\n",
       "      <td>5000</td>\n",
       "      <td>750</td>\n",
       "      <td>3750000</td>\n",
       "    </tr>\n",
       "    <tr>\n",
       "      <th>3</th>\n",
       "      <td>05/08/2022</td>\n",
       "      <td>CraftLaminasi290</td>\n",
       "      <td>1000</td>\n",
       "      <td>1200</td>\n",
       "      <td>1200000</td>\n",
       "    </tr>\n",
       "    <tr>\n",
       "      <th>13</th>\n",
       "      <td>11/08/2022</td>\n",
       "      <td>CraftLaminasi290</td>\n",
       "      <td>1000</td>\n",
       "      <td>850</td>\n",
       "      <td>850000</td>\n",
       "    </tr>\n",
       "    <tr>\n",
       "      <th>20</th>\n",
       "      <td>12/08/2022</td>\n",
       "      <td>CraftLaminasi290</td>\n",
       "      <td>3000</td>\n",
       "      <td>800</td>\n",
       "      <td>2400000</td>\n",
       "    </tr>\n",
       "    <tr>\n",
       "      <th>21</th>\n",
       "      <td>12/08/2022</td>\n",
       "      <td>CraftLaminasi290</td>\n",
       "      <td>500</td>\n",
       "      <td>600</td>\n",
       "      <td>300000</td>\n",
       "    </tr>\n",
       "    <tr>\n",
       "      <th>...</th>\n",
       "      <td>...</td>\n",
       "      <td>...</td>\n",
       "      <td>...</td>\n",
       "      <td>...</td>\n",
       "      <td>...</td>\n",
       "    </tr>\n",
       "    <tr>\n",
       "      <th>1022</th>\n",
       "      <td>28/10/2023</td>\n",
       "      <td>CraftLaminasi290</td>\n",
       "      <td>1000</td>\n",
       "      <td>875</td>\n",
       "      <td>875000</td>\n",
       "    </tr>\n",
       "    <tr>\n",
       "      <th>1023</th>\n",
       "      <td>28/10/2023</td>\n",
       "      <td>CraftLaminasi290</td>\n",
       "      <td>1000</td>\n",
       "      <td>850</td>\n",
       "      <td>850000</td>\n",
       "    </tr>\n",
       "    <tr>\n",
       "      <th>1053</th>\n",
       "      <td>09/11/2023</td>\n",
       "      <td>CraftLaminasi290</td>\n",
       "      <td>2000</td>\n",
       "      <td>1600</td>\n",
       "      <td>3200000</td>\n",
       "    </tr>\n",
       "    <tr>\n",
       "      <th>1072</th>\n",
       "      <td>15/11/2023</td>\n",
       "      <td>CraftLaminasi290</td>\n",
       "      <td>2000</td>\n",
       "      <td>800</td>\n",
       "      <td>1600000</td>\n",
       "    </tr>\n",
       "    <tr>\n",
       "      <th>1073</th>\n",
       "      <td>15/11/2023</td>\n",
       "      <td>CraftLaminasi290</td>\n",
       "      <td>1500</td>\n",
       "      <td>875</td>\n",
       "      <td>1312500</td>\n",
       "    </tr>\n",
       "  </tbody>\n",
       "</table>\n",
       "<p>121 rows × 5 columns</p>\n",
       "</div>"
      ],
      "text/plain": [
       "         Tanggal      Jenis Produk  Jumlah Order  Harga    Total\n",
       "2     05/08/2022  CraftLaminasi290          5000    750  3750000\n",
       "3     05/08/2022  CraftLaminasi290          1000   1200  1200000\n",
       "13    11/08/2022  CraftLaminasi290          1000    850   850000\n",
       "20    12/08/2022  CraftLaminasi290          3000    800  2400000\n",
       "21    12/08/2022  CraftLaminasi290           500    600   300000\n",
       "...          ...               ...           ...    ...      ...\n",
       "1022  28/10/2023  CraftLaminasi290          1000    875   875000\n",
       "1023  28/10/2023  CraftLaminasi290          1000    850   850000\n",
       "1053  09/11/2023  CraftLaminasi290          2000   1600  3200000\n",
       "1072  15/11/2023  CraftLaminasi290          2000    800  1600000\n",
       "1073  15/11/2023  CraftLaminasi290          1500    875  1312500\n",
       "\n",
       "[121 rows x 5 columns]"
      ]
     },
     "execution_count": 56,
     "metadata": {},
     "output_type": "execute_result"
    }
   ],
   "source": [
    "#load dataset\n",
    "df = pd.read_csv(\"data_penjualan.csv\", delimiter=\";\")\n",
    "data_craft = df[df['Jenis Produk'] == 'CraftLaminasi290']\n",
    "data_craft"
   ]
  },
  {
   "cell_type": "code",
   "execution_count": 22,
   "id": "7979fdd6-b092-4357-a41b-cdb2bd806540",
   "metadata": {},
   "outputs": [
    {
     "name": "stdout",
     "output_type": "stream",
     "text": [
      "Rata-rata penjualan produk CraftLaminasi290: 2710227.272727273\n"
     ]
    }
   ],
   "source": [
    "#1.hitunglah rata-rata penjualan dari produk\n",
    "rata_rata_penjualan = data_craft['Total'].mean()\n",
    "print(f\"Rata-rata penjualan produk CraftLaminasi290: {rata_rata_penjualan}\")"
   ]
  },
  {
   "cell_type": "code",
   "execution_count": 34,
   "id": "637d8bbf-218a-44fc-a3d9-95d5d22ef0a2",
   "metadata": {},
   "outputs": [
    {
     "name": "stdout",
     "output_type": "stream",
     "text": [
      "Tanggal transaksi termahal Craftlaminasi290 terjadi pada: 16/07/2023\n"
     ]
    }
   ],
   "source": [
    "#2.Tanggal transaksi termahal terjadi\n",
    "transaksi_termahal = data_craft.loc[data_craft['Total'].idxmax()]\n",
    "print(f\"Tanggal transaksi termahal CraftLaminasi290 terjadi pada: {transaksi_termahal['Tanggal']}\")"
   ]
  },
  {
   "cell_type": "code",
   "execution_count": 36,
   "id": "665dfede-5914-4f31-8f1e-eb46b25bdf3a",
   "metadata": {},
   "outputs": [
    {
     "name": "stdout",
     "output_type": "stream",
     "text": [
      "Jumlah orderan terbanyak untuk CraftLaminasi290 adalah: 6000\n"
     ]
    }
   ],
   "source": [
    "#3.Jumlah orderan terbanyak CraftLaminasi290\n",
    "orderan_terbanyak = data_craft['Jumlah Order'].max()\n",
    "print(f\"Jumlah orderan terbanyak untuk CraftLaminasi290 adalah: {orderan_terbanyak}\")"
   ]
  },
  {
   "cell_type": "code",
   "execution_count": 64,
   "id": "21962306-ec26-4dc2-8695-97b52c81b124",
   "metadata": {},
   "outputs": [
    {
     "name": "stdout",
     "output_type": "stream",
     "text": [
      "Nilai terendah total pembelian CraftLaminasi290 di bulan 10 tahun 2023: 850000\n"
     ]
    }
   ],
   "source": [
    "# 4.Nilai terendah total pembelian di bulan 10 tahun 2023\n",
    "df['Tanggal'] = pd.to_datetime(df['Tanggal'], format='%d/%m/%Y')\n",
    "data_bulan_10_2023 = data_craft[(data_craft['Tanggal'].dt.month == 10) & (data_craft['Tanggal'].dt.year == 2023)]\n",
    "if not data_bulan_10_2023.empty:\n",
    "    nilai_terendah_bulan_10 = data_bulan_10_2023['Total'].min()\n",
    "    print(f\"Nilai terendah total pembelian CraftLaminasi290 di bulan 10 tahun 2023: {nilai_terendah_bulan_10}\")\n",
    "else:\n",
    "    print(\"Tidak ada data untuk CraftLaminasi290 di bulan 10 tahun 2023.\")"
   ]
  },
  {
   "cell_type": "code",
   "execution_count": 66,
   "id": "6170b3ce-b817-494c-bf68-b1f00e12d961",
   "metadata": {},
   "outputs": [
    {
     "name": "stdout",
     "output_type": "stream",
     "text": [
      "Tanggal harga barang tertinggi untuk CraftLaminasi290 terjadi pada: 2023-01-06 00:00:00\n"
     ]
    }
   ],
   "source": [
    "#5. Tanggal nilai harga CraftLaminasi290 tertinggi\n",
    "harga_barang_tertinggi = data_craft.loc[data_craft['Harga'].idxmax()]\n",
    "print(f\"Tanggal harga barang tertinggi untuk CraftLaminasi290 terjadi pada: {harga_barang_tertinggi['Tanggal']}\")"
   ]
  },
  {
   "cell_type": "code",
   "execution_count": null,
   "id": "cdf23869-02aa-481b-ba32-46054ca80ae5",
   "metadata": {},
   "outputs": [],
   "source": []
  }
 ],
 "metadata": {
  "kernelspec": {
   "display_name": "Python [conda env:base] *",
   "language": "python",
   "name": "conda-base-py"
  },
  "language_info": {
   "codemirror_mode": {
    "name": "ipython",
    "version": 3
   },
   "file_extension": ".py",
   "mimetype": "text/x-python",
   "name": "python",
   "nbconvert_exporter": "python",
   "pygments_lexer": "ipython3",
   "version": "3.12.7"
  }
 },
 "nbformat": 4,
 "nbformat_minor": 5
}
