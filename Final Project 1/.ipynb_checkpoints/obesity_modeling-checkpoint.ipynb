{
 "cells": [
  {
   "cell_type": "code",
   "execution_count": 3,
   "id": "f2c27315-0625-444b-a0b4-31b130b8d567",
   "metadata": {},
   "outputs": [],
   "source": [
    "# import library preprocessing dan visualisasi\n",
    "import pandas as pd\n",
    "import numpy as np\n",
    "import matplotlib.pyplot as plt\n",
    "import seaborn as sns\n",
    "import warnings\n",
    "from sklearn.model_selection import train_test_split\n",
    "from sklearn.ensemble import RandomForestClassifier\n",
    "from sklearn.metrics import accuracy_score, classification_report, confusion_matrix"
   ]
  },
  {
   "cell_type": "code",
   "execution_count": 4,
   "id": "036470cb-a210-4847-86d8-35c2dfef20cb",
   "metadata": {},
   "outputs": [
    {
     "data": {
      "text/html": [
       "<div>\n",
       "<style scoped>\n",
       "    .dataframe tbody tr th:only-of-type {\n",
       "        vertical-align: middle;\n",
       "    }\n",
       "\n",
       "    .dataframe tbody tr th {\n",
       "        vertical-align: top;\n",
       "    }\n",
       "\n",
       "    .dataframe thead th {\n",
       "        text-align: right;\n",
       "    }\n",
       "</style>\n",
       "<table border=\"1\" class=\"dataframe\">\n",
       "  <thead>\n",
       "    <tr style=\"text-align: right;\">\n",
       "      <th></th>\n",
       "      <th>Gender</th>\n",
       "      <th>Age</th>\n",
       "      <th>Height</th>\n",
       "      <th>Weight</th>\n",
       "      <th>family_history_with_overweight</th>\n",
       "      <th>FAVC</th>\n",
       "      <th>FCVC</th>\n",
       "      <th>NCP</th>\n",
       "      <th>CAEC</th>\n",
       "      <th>SMOKE</th>\n",
       "      <th>CH2O</th>\n",
       "      <th>SCC</th>\n",
       "      <th>FAF</th>\n",
       "      <th>TUE</th>\n",
       "      <th>CALC</th>\n",
       "      <th>MTRANS</th>\n",
       "      <th>NObeyesdad</th>\n",
       "    </tr>\n",
       "  </thead>\n",
       "  <tbody>\n",
       "    <tr>\n",
       "      <th>0</th>\n",
       "      <td>Female</td>\n",
       "      <td>21</td>\n",
       "      <td>1.62</td>\n",
       "      <td>64.00</td>\n",
       "      <td>yes</td>\n",
       "      <td>no</td>\n",
       "      <td>2.0</td>\n",
       "      <td>3.0</td>\n",
       "      <td>Sometimes</td>\n",
       "      <td>no</td>\n",
       "      <td>2.00</td>\n",
       "      <td>no</td>\n",
       "      <td>0.00</td>\n",
       "      <td>1.000</td>\n",
       "      <td>no</td>\n",
       "      <td>Public_Transportation</td>\n",
       "      <td>Normal_Weight</td>\n",
       "    </tr>\n",
       "    <tr>\n",
       "      <th>1</th>\n",
       "      <td>Female</td>\n",
       "      <td>21</td>\n",
       "      <td>1.52</td>\n",
       "      <td>56.00</td>\n",
       "      <td>yes</td>\n",
       "      <td>no</td>\n",
       "      <td>3.0</td>\n",
       "      <td>3.0</td>\n",
       "      <td>Sometimes</td>\n",
       "      <td>yes</td>\n",
       "      <td>3.00</td>\n",
       "      <td>yes</td>\n",
       "      <td>3.00</td>\n",
       "      <td>0.000</td>\n",
       "      <td>Sometimes</td>\n",
       "      <td>Public_Transportation</td>\n",
       "      <td>Normal_Weight</td>\n",
       "    </tr>\n",
       "    <tr>\n",
       "      <th>2</th>\n",
       "      <td>Male</td>\n",
       "      <td>23</td>\n",
       "      <td>1.80</td>\n",
       "      <td>77.00</td>\n",
       "      <td>yes</td>\n",
       "      <td>no</td>\n",
       "      <td>2.0</td>\n",
       "      <td>3.0</td>\n",
       "      <td>Sometimes</td>\n",
       "      <td>no</td>\n",
       "      <td>2.00</td>\n",
       "      <td>no</td>\n",
       "      <td>2.00</td>\n",
       "      <td>1.000</td>\n",
       "      <td>Frequently</td>\n",
       "      <td>Public_Transportation</td>\n",
       "      <td>Normal_Weight</td>\n",
       "    </tr>\n",
       "    <tr>\n",
       "      <th>3</th>\n",
       "      <td>Male</td>\n",
       "      <td>27</td>\n",
       "      <td>1.80</td>\n",
       "      <td>87.00</td>\n",
       "      <td>no</td>\n",
       "      <td>no</td>\n",
       "      <td>3.0</td>\n",
       "      <td>3.0</td>\n",
       "      <td>Sometimes</td>\n",
       "      <td>no</td>\n",
       "      <td>2.00</td>\n",
       "      <td>no</td>\n",
       "      <td>2.00</td>\n",
       "      <td>0.000</td>\n",
       "      <td>Frequently</td>\n",
       "      <td>Walking</td>\n",
       "      <td>Overweight_Level_I</td>\n",
       "    </tr>\n",
       "    <tr>\n",
       "      <th>4</th>\n",
       "      <td>Male</td>\n",
       "      <td>22</td>\n",
       "      <td>1.78</td>\n",
       "      <td>89.80</td>\n",
       "      <td>no</td>\n",
       "      <td>no</td>\n",
       "      <td>2.0</td>\n",
       "      <td>1.0</td>\n",
       "      <td>Sometimes</td>\n",
       "      <td>no</td>\n",
       "      <td>2.00</td>\n",
       "      <td>no</td>\n",
       "      <td>0.00</td>\n",
       "      <td>0.000</td>\n",
       "      <td>Sometimes</td>\n",
       "      <td>Public_Transportation</td>\n",
       "      <td>Overweight_Level_II</td>\n",
       "    </tr>\n",
       "    <tr>\n",
       "      <th>...</th>\n",
       "      <td>...</td>\n",
       "      <td>...</td>\n",
       "      <td>...</td>\n",
       "      <td>...</td>\n",
       "      <td>...</td>\n",
       "      <td>...</td>\n",
       "      <td>...</td>\n",
       "      <td>...</td>\n",
       "      <td>...</td>\n",
       "      <td>...</td>\n",
       "      <td>...</td>\n",
       "      <td>...</td>\n",
       "      <td>...</td>\n",
       "      <td>...</td>\n",
       "      <td>...</td>\n",
       "      <td>...</td>\n",
       "      <td>...</td>\n",
       "    </tr>\n",
       "    <tr>\n",
       "      <th>2106</th>\n",
       "      <td>Female</td>\n",
       "      <td>21</td>\n",
       "      <td>1.71</td>\n",
       "      <td>131.41</td>\n",
       "      <td>yes</td>\n",
       "      <td>yes</td>\n",
       "      <td>3.0</td>\n",
       "      <td>3.0</td>\n",
       "      <td>Sometimes</td>\n",
       "      <td>no</td>\n",
       "      <td>1.73</td>\n",
       "      <td>no</td>\n",
       "      <td>1.68</td>\n",
       "      <td>0.906</td>\n",
       "      <td>Sometimes</td>\n",
       "      <td>Public_Transportation</td>\n",
       "      <td>Obesity_Type_III</td>\n",
       "    </tr>\n",
       "    <tr>\n",
       "      <th>2107</th>\n",
       "      <td>Female</td>\n",
       "      <td>22</td>\n",
       "      <td>1.75</td>\n",
       "      <td>133.74</td>\n",
       "      <td>yes</td>\n",
       "      <td>yes</td>\n",
       "      <td>3.0</td>\n",
       "      <td>3.0</td>\n",
       "      <td>Sometimes</td>\n",
       "      <td>no</td>\n",
       "      <td>2.01</td>\n",
       "      <td>no</td>\n",
       "      <td>1.34</td>\n",
       "      <td>0.599</td>\n",
       "      <td>Sometimes</td>\n",
       "      <td>Public_Transportation</td>\n",
       "      <td>Obesity_Type_III</td>\n",
       "    </tr>\n",
       "    <tr>\n",
       "      <th>2108</th>\n",
       "      <td>Female</td>\n",
       "      <td>23</td>\n",
       "      <td>1.75</td>\n",
       "      <td>133.69</td>\n",
       "      <td>yes</td>\n",
       "      <td>yes</td>\n",
       "      <td>3.0</td>\n",
       "      <td>3.0</td>\n",
       "      <td>Sometimes</td>\n",
       "      <td>no</td>\n",
       "      <td>2.05</td>\n",
       "      <td>no</td>\n",
       "      <td>1.41</td>\n",
       "      <td>0.646</td>\n",
       "      <td>Sometimes</td>\n",
       "      <td>Public_Transportation</td>\n",
       "      <td>Obesity_Type_III</td>\n",
       "    </tr>\n",
       "    <tr>\n",
       "      <th>2109</th>\n",
       "      <td>Female</td>\n",
       "      <td>24</td>\n",
       "      <td>1.74</td>\n",
       "      <td>133.35</td>\n",
       "      <td>yes</td>\n",
       "      <td>yes</td>\n",
       "      <td>3.0</td>\n",
       "      <td>3.0</td>\n",
       "      <td>Sometimes</td>\n",
       "      <td>no</td>\n",
       "      <td>2.85</td>\n",
       "      <td>no</td>\n",
       "      <td>1.14</td>\n",
       "      <td>0.586</td>\n",
       "      <td>Sometimes</td>\n",
       "      <td>Public_Transportation</td>\n",
       "      <td>Obesity_Type_III</td>\n",
       "    </tr>\n",
       "    <tr>\n",
       "      <th>2110</th>\n",
       "      <td>Female</td>\n",
       "      <td>24</td>\n",
       "      <td>1.74</td>\n",
       "      <td>133.47</td>\n",
       "      <td>yes</td>\n",
       "      <td>yes</td>\n",
       "      <td>3.0</td>\n",
       "      <td>3.0</td>\n",
       "      <td>Sometimes</td>\n",
       "      <td>no</td>\n",
       "      <td>2.86</td>\n",
       "      <td>no</td>\n",
       "      <td>1.03</td>\n",
       "      <td>0.714</td>\n",
       "      <td>Sometimes</td>\n",
       "      <td>Public_Transportation</td>\n",
       "      <td>Obesity_Type_III</td>\n",
       "    </tr>\n",
       "  </tbody>\n",
       "</table>\n",
       "<p>2111 rows × 17 columns</p>\n",
       "</div>"
      ],
      "text/plain": [
       "      Gender  Age  Height  Weight family_history_with_overweight FAVC  FCVC  \\\n",
       "0     Female   21    1.62   64.00                            yes   no   2.0   \n",
       "1     Female   21    1.52   56.00                            yes   no   3.0   \n",
       "2       Male   23    1.80   77.00                            yes   no   2.0   \n",
       "3       Male   27    1.80   87.00                             no   no   3.0   \n",
       "4       Male   22    1.78   89.80                             no   no   2.0   \n",
       "...      ...  ...     ...     ...                            ...  ...   ...   \n",
       "2106  Female   21    1.71  131.41                            yes  yes   3.0   \n",
       "2107  Female   22    1.75  133.74                            yes  yes   3.0   \n",
       "2108  Female   23    1.75  133.69                            yes  yes   3.0   \n",
       "2109  Female   24    1.74  133.35                            yes  yes   3.0   \n",
       "2110  Female   24    1.74  133.47                            yes  yes   3.0   \n",
       "\n",
       "      NCP       CAEC SMOKE  CH2O  SCC   FAF    TUE        CALC  \\\n",
       "0     3.0  Sometimes    no  2.00   no  0.00  1.000          no   \n",
       "1     3.0  Sometimes   yes  3.00  yes  3.00  0.000   Sometimes   \n",
       "2     3.0  Sometimes    no  2.00   no  2.00  1.000  Frequently   \n",
       "3     3.0  Sometimes    no  2.00   no  2.00  0.000  Frequently   \n",
       "4     1.0  Sometimes    no  2.00   no  0.00  0.000   Sometimes   \n",
       "...   ...        ...   ...   ...  ...   ...    ...         ...   \n",
       "2106  3.0  Sometimes    no  1.73   no  1.68  0.906   Sometimes   \n",
       "2107  3.0  Sometimes    no  2.01   no  1.34  0.599   Sometimes   \n",
       "2108  3.0  Sometimes    no  2.05   no  1.41  0.646   Sometimes   \n",
       "2109  3.0  Sometimes    no  2.85   no  1.14  0.586   Sometimes   \n",
       "2110  3.0  Sometimes    no  2.86   no  1.03  0.714   Sometimes   \n",
       "\n",
       "                     MTRANS           NObeyesdad  \n",
       "0     Public_Transportation        Normal_Weight  \n",
       "1     Public_Transportation        Normal_Weight  \n",
       "2     Public_Transportation        Normal_Weight  \n",
       "3                   Walking   Overweight_Level_I  \n",
       "4     Public_Transportation  Overweight_Level_II  \n",
       "...                     ...                  ...  \n",
       "2106  Public_Transportation     Obesity_Type_III  \n",
       "2107  Public_Transportation     Obesity_Type_III  \n",
       "2108  Public_Transportation     Obesity_Type_III  \n",
       "2109  Public_Transportation     Obesity_Type_III  \n",
       "2110  Public_Transportation     Obesity_Type_III  \n",
       "\n",
       "[2111 rows x 17 columns]"
      ]
     },
     "execution_count": 4,
     "metadata": {},
     "output_type": "execute_result"
    }
   ],
   "source": [
    "df = pd.read_csv(\"ObesityDataSet_raw_and_data_sinthetic.csv\")\n",
    "df"
   ]
  },
  {
   "cell_type": "code",
   "execution_count": 8,
   "id": "9da2ca60-923c-456e-bf76-df78cc352f41",
   "metadata": {},
   "outputs": [
    {
     "name": "stdout",
     "output_type": "stream",
     "text": [
      "Gender                            0\n",
      "Age                               0\n",
      "Height                            0\n",
      "Weight                            0\n",
      "family_history_with_overweight    0\n",
      "FAVC                              0\n",
      "FCVC                              0\n",
      "NCP                               0\n",
      "CAEC                              0\n",
      "SMOKE                             0\n",
      "CH2O                              0\n",
      "SCC                               0\n",
      "FAF                               0\n",
      "TUE                               0\n",
      "CALC                              0\n",
      "MTRANS                            0\n",
      "NObeyesdad                        0\n",
      "dtype: int64\n"
     ]
    }
   ],
   "source": [
    "#Data Data Preprocessing\n",
    "print(df.isnull().sum())"
   ]
  },
  {
   "cell_type": "code",
   "execution_count": 10,
   "id": "20b9ed9f-1405-45a9-92a4-a3197741ca1d",
   "metadata": {},
   "outputs": [],
   "source": [
    "df.drop_duplicates(inplace=True)"
   ]
  },
  {
   "cell_type": "code",
   "execution_count": 12,
   "id": "9611acf8-7b25-4f1e-b6f6-868113287fad",
   "metadata": {},
   "outputs": [
    {
     "name": "stdout",
     "output_type": "stream",
     "text": [
      "<class 'pandas.core.frame.DataFrame'>\n",
      "Index: 2087 entries, 0 to 2110\n",
      "Data columns (total 17 columns):\n",
      " #   Column                          Non-Null Count  Dtype  \n",
      "---  ------                          --------------  -----  \n",
      " 0   Gender                          2087 non-null   object \n",
      " 1   Age                             2087 non-null   int64  \n",
      " 2   Height                          2087 non-null   float64\n",
      " 3   Weight                          2087 non-null   float64\n",
      " 4   family_history_with_overweight  2087 non-null   object \n",
      " 5   FAVC                            2087 non-null   object \n",
      " 6   FCVC                            2087 non-null   float64\n",
      " 7   NCP                             2087 non-null   float64\n",
      " 8   CAEC                            2087 non-null   object \n",
      " 9   SMOKE                           2087 non-null   object \n",
      " 10  CH2O                            2087 non-null   float64\n",
      " 11  SCC                             2087 non-null   object \n",
      " 12  FAF                             2087 non-null   float64\n",
      " 13  TUE                             2087 non-null   float64\n",
      " 14  CALC                            2087 non-null   object \n",
      " 15  MTRANS                          2087 non-null   object \n",
      " 16  NObeyesdad                      2087 non-null   object \n",
      "dtypes: float64(7), int64(1), object(9)\n",
      "memory usage: 293.5+ KB\n"
     ]
    }
   ],
   "source": [
    "df.info()"
   ]
  },
  {
   "cell_type": "code",
   "execution_count": 14,
   "id": "3cbf50a2-8d95-4564-a337-353b57bea55e",
   "metadata": {},
   "outputs": [],
   "source": [
    "df_baru = df.copy()"
   ]
  },
  {
   "cell_type": "code",
   "execution_count": 16,
   "id": "ad7af40f-66ab-4706-b54b-7634d48c68fa",
   "metadata": {},
   "outputs": [
    {
     "name": "stdout",
     "output_type": "stream",
     "text": [
      "   Gender  Age  Height  Weight  family_history_with_overweight  FAVC  FCVC  \\\n",
      "0       0   21    1.62    64.0                               1     0   2.0   \n",
      "1       0   21    1.52    56.0                               1     0   3.0   \n",
      "2       1   23    1.80    77.0                               1     0   2.0   \n",
      "3       1   27    1.80    87.0                               0     0   3.0   \n",
      "4       1   22    1.78    89.8                               0     0   2.0   \n",
      "\n",
      "   NCP  CAEC  SMOKE  CH2O  SCC  FAF  TUE  CALC  MTRANS  NObeyesdad  \n",
      "0  3.0     2      0   2.0    0  0.0  1.0     3       3           1  \n",
      "1  3.0     2      1   3.0    1  3.0  0.0     2       3           1  \n",
      "2  3.0     2      0   2.0    0  2.0  1.0     1       3           1  \n",
      "3  3.0     2      0   2.0    0  2.0  0.0     1       4           5  \n",
      "4  1.0     2      0   2.0    0  0.0  0.0     2       3           6  \n"
     ]
    }
   ],
   "source": [
    "from sklearn.preprocessing import LabelEncoder\n",
    "# Inisialisasi LabelEncoder\n",
    "label_encoder = LabelEncoder()\n",
    "\n",
    "# Daftar kolom kategori yang akan diencode\n",
    "categorical_cols = [\"Gender\", \"family_history_with_overweight\", \"FAVC\", \"SCC\",\n",
    "                    \"CAEC\", \"SMOKE\", \"CALC\", \"MTRANS\", \"NObeyesdad\"]\n",
    "\n",
    "# Loop untuk encoding setiap kolom kategori\n",
    "for col in categorical_cols:\n",
    "    if col in df_baru.columns:\n",
    "        df_baru[col] = label_encoder.fit_transform(df_baru[col])\n",
    "    else:\n",
    "        print(f\"Kolom '{col}' tidak ditemukan dalam DataFrame!\")\n",
    "\n",
    "# Cek hasil encoding\n",
    "print(df_baru.head())"
   ]
  },
  {
   "cell_type": "code",
   "execution_count": 18,
   "id": "1b4a2d80-4096-489b-944b-05150cb5ddf8",
   "metadata": {},
   "outputs": [
    {
     "data": {
      "text/plain": [
       "NObeyesdad\n",
       "2    351\n",
       "4    324\n",
       "3    297\n",
       "6    290\n",
       "1    282\n",
       "5    276\n",
       "0    267\n",
       "Name: count, dtype: int64"
      ]
     },
     "execution_count": 18,
     "metadata": {},
     "output_type": "execute_result"
    }
   ],
   "source": [
    "df_baru[\"NObeyesdad\"].value_counts()"
   ]
  },
  {
   "cell_type": "code",
   "execution_count": 20,
   "id": "b1fc3afb-e09c-46a1-bd6e-a363f2800998",
   "metadata": {},
   "outputs": [
    {
     "data": {
      "text/plain": [
       "Gender                            0\n",
       "Age                               0\n",
       "Height                            0\n",
       "Weight                            0\n",
       "family_history_with_overweight    0\n",
       "FAVC                              0\n",
       "FCVC                              0\n",
       "NCP                               0\n",
       "CAEC                              0\n",
       "SMOKE                             0\n",
       "CH2O                              0\n",
       "SCC                               0\n",
       "FAF                               0\n",
       "TUE                               0\n",
       "CALC                              0\n",
       "MTRANS                            0\n",
       "NObeyesdad                        0\n",
       "dtype: int64"
      ]
     },
     "execution_count": 20,
     "metadata": {},
     "output_type": "execute_result"
    }
   ],
   "source": [
    "df_baru.isna().sum()"
   ]
  },
  {
   "cell_type": "code",
   "execution_count": 22,
   "id": "0195f57f-1e21-4729-842b-4fbb5074ddac",
   "metadata": {},
   "outputs": [],
   "source": [
    "#mengecek outlier\n",
    "df_outlier = df_baru[[\"Age\", \"Weight\", \"CH2O\", \"FAF\", \"TUE\", \"NObeyesdad\"]]"
   ]
  },
  {
   "cell_type": "code",
   "execution_count": 24,
   "id": "0d4a3e7a-7ee0-4bbd-8dbe-90dffdd7ff88",
   "metadata": {},
   "outputs": [
    {
     "data": {
      "image/png": "[encoded data removed]",
      "text/plain": [
       "<Figure size 1200x800 with 1 Axes>"
      ]
     },
     "metadata": {},
     "output_type": "display_data"
    }
   ],
   "source": [
    "#mengecek outlier\n",
    "#membuat boxplot outlier\n",
    "plt.figure(figsize=(12,8))\n",
    "df_outlier.boxplot()\n",
    "plt.title(\"Boxplot Outlier Detection\")\n",
    "plt.xticks(rotation=55)\n",
    "plt.show()"
   ]
  },
  {
   "cell_type": "code",
   "execution_count": 26,
   "id": "6748d34e-8581-4a6f-a601-94a36670ecf1",
   "metadata": {},
   "outputs": [],
   "source": [
    "#hilangkan outlier\n",
    "def hapus_outlier(data):\n",
    "    df_bersih = data.copy() #melakukan copy data kedalam variabel df_bersih\n",
    "    for col in df_bersih.columns: #memanggil nama setiap kolom yang disimpan ke dalam variabel col untuk diproses\n",
    "    #col=pm2.5\n",
    "        Q1 = data[col].quantile(0.25) #untuk menghitung Q1\n",
    "        Q3 = data[col].quantile(0.75) #untuk menghitung Q3\n",
    "        IQR = Q3-Q1 #untuk menhitung IQR range antara Q3 dan Q1\n",
    "        upper_bound = Q3 + 1.5 * IQR\n",
    "        lower_bound = Q3 - 1.5 * IQR\n",
    "        df_bersih = df_bersih [(df_bersih[col] > lower_bound)&(df_bersih[col]<upper_bound)]\n",
    "    return df_bersih"
   ]
  },
  {
   "cell_type": "code",
   "execution_count": 28,
   "id": "057eb6f9-540b-40ac-a0c4-a662ab9e19ed",
   "metadata": {},
   "outputs": [],
   "source": [
    "df_no_outlier = hapus_outlier(df_outlier) #run hapus outlier"
   ]
  },
  {
   "cell_type": "code",
   "execution_count": 30,
   "id": "46f3667b-21f8-4db1-ad9f-54035c0918da",
   "metadata": {},
   "outputs": [
    {
     "data": {
      "image/png": "[encoded data removed]",
      "text/plain": [
       "<Figure size 1200x800 with 1 Axes>"
      ]
     },
     "metadata": {},
     "output_type": "display_data"
    }
   ],
   "source": [
    "plt.figure(figsize=(12,8))\n",
    "df_no_outlier[[\"Age\", \"Weight\", \"CH2O\", \"FAF\", \"TUE\", \"NObeyesdad\"]].boxplot()\n",
    "plt.title(\"Boxplot Outlier after Detection Remove\")\n",
    "plt.show()"
   ]
  },
  {
   "cell_type": "code",
   "execution_count": 32,
   "id": "ba845748-3961-4af6-aeb9-5bbe776f49f3",
   "metadata": {},
   "outputs": [],
   "source": [
    "#Split Data\n",
    "from sklearn.model_selection import train_test_split\n",
    "X = df_no_outlier.drop([\"NObeyesdad\"], axis=1)\n",
    "y = df_no_outlier[\"NObeyesdad\"]\n",
    "# Enkoding target variable\n",
    "y_encoded = LabelEncoder().fit_transform(y)\n",
    "\n",
    "X_train, X_test, y_train, y_test = train_test_split(\n",
    "    X, y_encoded, test_size=0.2, random_state=42, stratify=y_encoded\n",
    ")"
   ]
  },
  {
   "cell_type": "code",
   "execution_count": 34,
   "id": "b004bfe5-fbb0-4930-b11b-a9996525e6ed",
   "metadata": {},
   "outputs": [],
   "source": [
    "model_rfc = RandomForestClassifier(n_estimators=100, random_state=42)\n",
    "\n",
    "#melatih\n",
    "model_rfc.fit(X_train, y_train)\n",
    "\n",
    "#menghitung training\n",
    "y_pred_train_rfc = model_rfc.predict(X_train)\n",
    "\n",
    "#menghitung testing\n",
    "y_pred_test_rfc = model_rfc.predict(X_test)"
   ]
  },
  {
   "cell_type": "code",
   "execution_count": 40,
   "id": "6f5cab65-f421-4b27-b3ce-9a115b8e0c08",
   "metadata": {},
   "outputs": [
    {
     "name": "stdout",
     "output_type": "stream",
     "text": [
      "Hasil Akurasinya Trainingnya adalah :  99.83416252072969\n",
      "Hasil Akurasinya Testingnya adalah :  91.05960264900662\n"
     ]
    }
   ],
   "source": [
    "#2.2 Meyriks Evaluasi Model RFC\n",
    "#menampilkan akurasi sisi training\n",
    "akurasi_training_rfc = accuracy_score(y_train, y_pred_train_rfc)\n",
    "\n",
    "#menampilkan akurasi sisi testing\n",
    "akurasi_testing_rfc = accuracy_score(y_test,y_pred_test_rfc)\n",
    "\n",
    "print(\"Hasil Akurasinya Trainingnya adalah : \", akurasi_training_rfc*100)\n",
    "print(\"Hasil Akurasinya Testingnya adalah : \",akurasi_testing_rfc*100)"
   ]
  },
  {
   "cell_type": "code",
   "execution_count": 42,
   "id": "0c440563-817d-46d1-b153-9ef63c130c30",
   "metadata": {},
   "outputs": [
    {
     "name": "stdout",
     "output_type": "stream",
     "text": [
      "Classification report Training\n",
      "              precision    recall  f1-score   support\n",
      "\n",
      "           0       0.99      1.00      1.00       107\n",
      "           1       1.00      0.99      0.99       146\n",
      "           2       1.00      1.00      1.00       197\n",
      "           3       1.00      1.00      1.00       180\n",
      "           4       1.00      1.00      1.00       238\n",
      "           5       1.00      1.00      1.00       162\n",
      "           6       0.99      1.00      1.00       176\n",
      "\n",
      "    accuracy                           1.00      1206\n",
      "   macro avg       1.00      1.00      1.00      1206\n",
      "weighted avg       1.00      1.00      1.00      1206\n",
      "\n"
     ]
    }
   ],
   "source": [
    "print(\"Classification report Training\")\n",
    "print(classification_report (y_train, y_pred_train_rfc))"
   ]
  },
  {
   "cell_type": "code",
   "execution_count": 44,
   "id": "4aec7c57-0b38-4782-b55a-aed740e60352",
   "metadata": {},
   "outputs": [
    {
     "name": "stdout",
     "output_type": "stream",
     "text": [
      "Classification report Testing\n",
      "              precision    recall  f1-score   support\n",
      "\n",
      "           0       0.88      0.85      0.87        27\n",
      "           1       0.85      0.81      0.83        36\n",
      "           2       0.96      0.92      0.94        50\n",
      "           3       0.98      1.00      0.99        45\n",
      "           4       1.00      1.00      1.00        60\n",
      "           5       0.82      0.80      0.81        40\n",
      "           6       0.82      0.91      0.86        44\n",
      "\n",
      "    accuracy                           0.91       302\n",
      "   macro avg       0.90      0.90      0.90       302\n",
      "weighted avg       0.91      0.91      0.91       302\n",
      "\n"
     ]
    }
   ],
   "source": [
    "print(\"Classification report Testing\")\n",
    "print(classification_report (y_test, y_pred_test_rfc))"
   ]
  },
  {
   "cell_type": "code",
   "execution_count": 46,
   "id": "8e3d904f-1710-4e84-bf6c-f94b00ddd79b",
   "metadata": {},
   "outputs": [],
   "source": [
    "import joblib"
   ]
  },
  {
   "cell_type": "code",
   "execution_count": 48,
   "id": "caf06aa3-d8d7-4703-a350-dfb94217f4ef",
   "metadata": {},
   "outputs": [],
   "source": [
    "joblib.dump(model_rfc, \"model_obesitas_rfc.joblib\")\n",
    "import pickle\n",
    "with open('model_rfc.pkl', 'wb') as f:\n",
    "    pickle.dump(model_rfc, f)"
   ]
  },
  {
   "cell_type": "code",
   "execution_count": 50,
   "id": "d492c5b8-43cf-4140-be06-fcfc4b851cc3",
   "metadata": {},
   "outputs": [],
   "source": [
    "muat_model = joblib.load(\"model_obesitas_rfc.joblib\")"
   ]
  },
  {
   "cell_type": "code",
   "execution_count": 54,
   "id": "9d4ff4fd-a48c-4b35-aee3-c56c5039664f",
   "metadata": {},
   "outputs": [],
   "source": [
    "#memuat model yang telah disimpan\n",
    "with open('model_rfc.pkl', 'rb') as f:\n",
    "    model = pickle.load(f)"
   ]
  },
  {
   "cell_type": "code",
   "execution_count": null,
   "id": "6b866896-e9f5-483b-87f7-a94418768eb4",
   "metadata": {},
   "outputs": [],
   "source": []
  }
 ],
 "metadata": {
  "kernelspec": {
   "display_name": "Python [conda env:base] *",
   "language": "python",
   "name": "conda-base-py"
  },
  "language_info": {
   "codemirror_mode": {
    "name": "ipython",
    "version": 3
   },
   "file_extension": ".py",
   "mimetype": "text/x-python",
   "name": "python",
   "nbconvert_exporter": "python",
   "pygments_lexer": "ipython3",
   "version": "3.12.7"
  }
 },
 "nbformat": 4,
 "nbformat_minor": 5
}
